{
 "cells": [
  {
   "cell_type": "markdown",
   "id": "9fba006e",
   "metadata": {},
   "source": [
    "# 🏥 Healthcare SQL + Python Portfolio Project\n",
    "\n",
    "### Project Overview\n",
    "\n",
    "In this project, I explored synthetic healthcare data to gain insights into hospital admissions, patient billing, medication patterns, and test results.\n",
    "\n",
    "I applied SQL inside Python, performed data cleaning, exploratory analysis, statistical testing, and business-oriented reporting.\n",
    "\n",
    "This project demonstrates strong SQL querying, Python data handling, critical thinking, and data storytelling — all essential skills for a Data Analyst in the healthcare industry.\n",
    "\n",
    "---\n",
    "\n",
    "### Project Details\n",
    "\n",
    "**Project Theme:** Hospital Performance & Patient Analytics  \n",
    "**Focus Areas:** SQL queries, data exploration, billing, test results, medications\n",
    "\n",
    "_This notebook walks through realistic healthcare data using SQL inside Python. Designed for data analyst portfolio use._\n"
   ]
  },
  {
   "cell_type": "markdown",
   "id": "2f1d0c4b",
   "metadata": {},
   "source": [
    "### 🔒 Environment Setup\n",
    "If you're using a virtual environment (recommended):\n",
    "```bash\n",
    "python3 -m venv venv\n",
    "source venv/bin/activate  # deactivate when done\n",
    "pip3 install pandas matplotlib seaborn jupyter notebook ipython-sql\n",
    "```\n",
    "_Remember to **deactivate** with `deactivate` when you're done._"
   ]
  },
  {
   "cell_type": "markdown",
   "metadata": {},
   "source": [
    "### 🛠 Environment Setup Details\n",
    "This project was completed using:\n",
    "\n",
    "Python 3\n",
    "\n",
    "SQLite (SQL inside Python)\n",
    "\n",
    "Pandas (for data handling)\n",
    "\n",
    "Matplotlib (for data visualization)\n",
    "\n",
    "Scipy (for statistical testing)\n",
    "\n",
    "ipython-sql (for SQL querying inside Jupyter)\n"
   ]
  },
  {
   "cell_type": "code",
   "execution_count": 1,
   "id": "ae7b1275",
   "metadata": {},
   "outputs": [],
   "source": [
    "\n",
    "import sqlite3\n",
    "import pandas as pd\n",
    "\n",
    "# Connect to your database file\n",
    "conn = sqlite3.connect('healthcare_portfolio_project.db')"
   ]
  },
  {
   "cell_type": "markdown",
   "metadata": {},
   "source": [
    "All work was conducted within a virtual environment (recommended practice) and executed in a Jupyter Notebook using VS Code.\n",
    "\n",
    "Packages installed included: pandas, matplotlib, seaborn, scipy, jupyter notebook, ipython-sql."
   ]
  },
  {
   "cell_type": "markdown",
   "metadata": {},
   "source": []
  },
  {
   "cell_type": "markdown",
   "metadata": {},
   "source": []
  },
  {
   "cell_type": "code",
   "execution_count": 2,
   "id": "8cdddad0",
   "metadata": {},
   "outputs": [
    {
     "name": "stdout",
     "output_type": "stream",
     "text": [
      "           name\n",
      "0     hospitals\n",
      "1       doctors\n",
      "2      patients\n",
      "3    admissions\n",
      "4       billing\n",
      "5   medications\n",
      "6  test_results\n"
     ]
    }
   ],
   "source": [
    "\n",
    "query = \"\"\"\n",
    "SELECT name FROM sqlite_master WHERE type='table';\n",
    "\"\"\"\n",
    "tables = pd.read_sql_query(query, conn)\n",
    "print (tables)"
   ]
  },
  {
   "cell_type": "markdown",
   "metadata": {},
   "source": [
    "# Data Cleaning\n",
    "\n",
    "Before starting the analysis, I checked and cleaned the healthcare dataset to ensure quality results.\n",
    "\n",
    "The cleaning steps included:\n",
    "\n",
    "- Checking for missing values\n",
    "- Checking for duplicate rows\n",
    "- Reviewing column formats\n",
    "- Handling any inconsistent data\n",
    "\n",
    "Maintaining clean data is essential for reliable analysis and trustworthy business insights.\n",
    "\n"
   ]
  },
  {
   "cell_type": "code",
   "execution_count": 3,
   "metadata": {},
   "outputs": [
    {
     "data": {
      "text/html": [
       "<div>\n",
       "<style scoped>\n",
       "    .dataframe tbody tr th:only-of-type {\n",
       "        vertical-align: middle;\n",
       "    }\n",
       "\n",
       "    .dataframe tbody tr th {\n",
       "        vertical-align: top;\n",
       "    }\n",
       "\n",
       "    .dataframe thead th {\n",
       "        text-align: right;\n",
       "    }\n",
       "</style>\n",
       "<table border=\"1\" class=\"dataframe\">\n",
       "  <thead>\n",
       "    <tr style=\"text-align: right;\">\n",
       "      <th></th>\n",
       "      <th>missing_names</th>\n",
       "      <th>missing_genders</th>\n",
       "      <th>missing_birth_dates</th>\n",
       "      <th>missing_blood_types</th>\n",
       "    </tr>\n",
       "  </thead>\n",
       "  <tbody>\n",
       "    <tr>\n",
       "      <th>0</th>\n",
       "      <td>0</td>\n",
       "      <td>0</td>\n",
       "      <td>0</td>\n",
       "      <td>0</td>\n",
       "    </tr>\n",
       "  </tbody>\n",
       "</table>\n",
       "</div>"
      ],
      "text/plain": [
       "   missing_names  missing_genders  missing_birth_dates  missing_blood_types\n",
       "0              0                0                    0                    0"
      ]
     },
     "execution_count": 3,
     "metadata": {},
     "output_type": "execute_result"
    }
   ],
   "source": [
    "# Check for missing values in the patients table\n",
    "pd.read_sql_query(\"\"\"\n",
    "SELECT \n",
    "    SUM(CASE WHEN name IS NULL THEN 1 ELSE 0 END) AS missing_names,\n",
    "    SUM(CASE WHEN gender IS NULL THEN 1 ELSE 0 END) AS missing_genders,\n",
    "    SUM(CASE WHEN birth_date IS NULL THEN 1 ELSE 0 END) AS missing_birth_dates,\n",
    "    SUM(CASE WHEN blood_type IS NULL THEN 1 ELSE 0 END) AS missing_blood_types\n",
    "FROM patients\n",
    "\"\"\", conn)\n"
   ]
  },
  {
   "cell_type": "markdown",
   "metadata": {},
   "source": [
    "###  Cleaning Check: Patients Table\n",
    "\n",
    "I checked the `patients` table for missing values. \n",
    "The table was clean, with no missing names, genders, birth dates, or blood types detected.\n"
   ]
  },
  {
   "cell_type": "code",
   "execution_count": 9,
   "metadata": {},
   "outputs": [
    {
     "data": {
      "text/html": [
       "<div>\n",
       "<style scoped>\n",
       "    .dataframe tbody tr th:only-of-type {\n",
       "        vertical-align: middle;\n",
       "    }\n",
       "\n",
       "    .dataframe tbody tr th {\n",
       "        vertical-align: top;\n",
       "    }\n",
       "\n",
       "    .dataframe thead th {\n",
       "        text-align: right;\n",
       "    }\n",
       "</style>\n",
       "<table border=\"1\" class=\"dataframe\">\n",
       "  <thead>\n",
       "    <tr style=\"text-align: right;\">\n",
       "      <th></th>\n",
       "      <th>gender</th>\n",
       "    </tr>\n",
       "  </thead>\n",
       "  <tbody>\n",
       "    <tr>\n",
       "      <th>0</th>\n",
       "      <td>Male</td>\n",
       "    </tr>\n",
       "    <tr>\n",
       "      <th>1</th>\n",
       "      <td>Other</td>\n",
       "    </tr>\n",
       "    <tr>\n",
       "      <th>2</th>\n",
       "      <td>Female</td>\n",
       "    </tr>\n",
       "  </tbody>\n",
       "</table>\n",
       "</div>"
      ],
      "text/plain": [
       "   gender\n",
       "0    Male\n",
       "1   Other\n",
       "2  Female"
      ]
     },
     "execution_count": 9,
     "metadata": {},
     "output_type": "execute_result"
    }
   ],
   "source": [
    "# Check unique gender values in patients\n",
    "pd.read_sql_query(\"\"\"\n",
    "SELECT DISTINCT gender\n",
    "FROM patients\n",
    "\"\"\", conn)\n"
   ]
  },
  {
   "cell_type": "markdown",
   "metadata": {},
   "source": [
    "###  Cleaning Check: Gender Values in Patients Table\n",
    "\n",
    "I checked the unique gender values in the `patients` table. \n",
    "The values were consistent (Male, Female, Other) and no unusual or invalid entries were found.\n"
   ]
  },
  {
   "cell_type": "code",
   "execution_count": 10,
   "metadata": {},
   "outputs": [
    {
     "data": {
      "text/html": [
       "<div>\n",
       "<style scoped>\n",
       "    .dataframe tbody tr th:only-of-type {\n",
       "        vertical-align: middle;\n",
       "    }\n",
       "\n",
       "    .dataframe tbody tr th {\n",
       "        vertical-align: top;\n",
       "    }\n",
       "\n",
       "    .dataframe thead th {\n",
       "        text-align: right;\n",
       "    }\n",
       "</style>\n",
       "<table border=\"1\" class=\"dataframe\">\n",
       "  <thead>\n",
       "    <tr style=\"text-align: right;\">\n",
       "      <th></th>\n",
       "      <th>blood_type</th>\n",
       "    </tr>\n",
       "  </thead>\n",
       "  <tbody>\n",
       "    <tr>\n",
       "      <th>0</th>\n",
       "      <td>AB-</td>\n",
       "    </tr>\n",
       "    <tr>\n",
       "      <th>1</th>\n",
       "      <td>A-</td>\n",
       "    </tr>\n",
       "    <tr>\n",
       "      <th>2</th>\n",
       "      <td>A+</td>\n",
       "    </tr>\n",
       "    <tr>\n",
       "      <th>3</th>\n",
       "      <td>AB+</td>\n",
       "    </tr>\n",
       "    <tr>\n",
       "      <th>4</th>\n",
       "      <td>B-</td>\n",
       "    </tr>\n",
       "    <tr>\n",
       "      <th>5</th>\n",
       "      <td>O-</td>\n",
       "    </tr>\n",
       "    <tr>\n",
       "      <th>6</th>\n",
       "      <td>B+</td>\n",
       "    </tr>\n",
       "    <tr>\n",
       "      <th>7</th>\n",
       "      <td>O+</td>\n",
       "    </tr>\n",
       "  </tbody>\n",
       "</table>\n",
       "</div>"
      ],
      "text/plain": [
       "  blood_type\n",
       "0        AB-\n",
       "1         A-\n",
       "2         A+\n",
       "3        AB+\n",
       "4         B-\n",
       "5         O-\n",
       "6         B+\n",
       "7         O+"
      ]
     },
     "execution_count": 10,
     "metadata": {},
     "output_type": "execute_result"
    }
   ],
   "source": [
    "# Check unique blood types\n",
    "pd.read_sql_query(\"\"\"\n",
    "SELECT DISTINCT blood_type\n",
    "FROM patients\n",
    "\"\"\", conn)\n"
   ]
  },
  {
   "cell_type": "markdown",
   "metadata": {},
   "source": [
    "###  Cleaning Check: Blood Types in Patients Table\n",
    "\n",
    "I checked the unique blood type values in the `patients` table. \n",
    "All blood types matched expected medical standards (A+, A-, B+, B-, AB+, AB-, O+, O-), with no anomalies detected.\n"
   ]
  },
  {
   "cell_type": "code",
   "execution_count": 11,
   "metadata": {},
   "outputs": [
    {
     "data": {
      "text/html": [
       "<div>\n",
       "<style scoped>\n",
       "    .dataframe tbody tr th:only-of-type {\n",
       "        vertical-align: middle;\n",
       "    }\n",
       "\n",
       "    .dataframe tbody tr th {\n",
       "        vertical-align: top;\n",
       "    }\n",
       "\n",
       "    .dataframe thead th {\n",
       "        text-align: right;\n",
       "    }\n",
       "</style>\n",
       "<table border=\"1\" class=\"dataframe\">\n",
       "  <thead>\n",
       "    <tr style=\"text-align: right;\">\n",
       "      <th></th>\n",
       "      <th>missing_admission_dates</th>\n",
       "      <th>missing_discharge_dates</th>\n",
       "    </tr>\n",
       "  </thead>\n",
       "  <tbody>\n",
       "    <tr>\n",
       "      <th>0</th>\n",
       "      <td>0</td>\n",
       "      <td>0</td>\n",
       "    </tr>\n",
       "  </tbody>\n",
       "</table>\n",
       "</div>"
      ],
      "text/plain": [
       "   missing_admission_dates  missing_discharge_dates\n",
       "0                        0                        0"
      ]
     },
     "execution_count": 11,
     "metadata": {},
     "output_type": "execute_result"
    }
   ],
   "source": [
    "# Check for missing dates in admissions\n",
    "pd.read_sql_query(\"\"\"\n",
    "SELECT \n",
    "    SUM(CASE WHEN admission_date IS NULL THEN 1 ELSE 0 END) AS missing_admission_dates,\n",
    "    SUM(CASE WHEN discharge_date IS NULL THEN 1 ELSE 0 END) AS missing_discharge_dates\n",
    "FROM admissions\n",
    "\"\"\", conn)\n"
   ]
  },
  {
   "cell_type": "markdown",
   "metadata": {},
   "source": [
    "###  Cleaning Check: Missing Dates in Admissions Table\n",
    "\n",
    "I checked the `admissions` table for missing admission and discharge dates.\n",
    "No missing values were found, ensuring completeness of hospital stay records.\n"
   ]
  },
  {
   "cell_type": "code",
   "execution_count": 12,
   "metadata": {},
   "outputs": [
    {
     "data": {
      "text/html": [
       "<div>\n",
       "<style scoped>\n",
       "    .dataframe tbody tr th:only-of-type {\n",
       "        vertical-align: middle;\n",
       "    }\n",
       "\n",
       "    .dataframe tbody tr th {\n",
       "        vertical-align: top;\n",
       "    }\n",
       "\n",
       "    .dataframe thead th {\n",
       "        text-align: right;\n",
       "    }\n",
       "</style>\n",
       "<table border=\"1\" class=\"dataframe\">\n",
       "  <thead>\n",
       "    <tr style=\"text-align: right;\">\n",
       "      <th></th>\n",
       "      <th>invalid_date_records</th>\n",
       "    </tr>\n",
       "  </thead>\n",
       "  <tbody>\n",
       "    <tr>\n",
       "      <th>0</th>\n",
       "      <td>0</td>\n",
       "    </tr>\n",
       "  </tbody>\n",
       "</table>\n",
       "</div>"
      ],
      "text/plain": [
       "   invalid_date_records\n",
       "0                     0"
      ]
     },
     "execution_count": 12,
     "metadata": {},
     "output_type": "execute_result"
    }
   ],
   "source": [
    "# Check for invalid date logic: discharge before admission\n",
    "pd.read_sql_query(\"\"\"\n",
    "SELECT COUNT(*) AS invalid_date_records\n",
    "FROM admissions\n",
    "WHERE discharge_date < admission_date\n",
    "\"\"\", conn)\n"
   ]
  },
  {
   "cell_type": "markdown",
   "metadata": {},
   "source": [
    "###  Cleaning Check: Date Logic in Admissions Table\n",
    "\n",
    "I verified that all `discharge_date` values occur after their corresponding `admission_date`.\n",
    "No invalid date relationships were found, confirming chronological consistency in patient records.\n"
   ]
  },
  {
   "cell_type": "code",
   "execution_count": 13,
   "metadata": {},
   "outputs": [
    {
     "data": {
      "text/html": [
       "<div>\n",
       "<style scoped>\n",
       "    .dataframe tbody tr th:only-of-type {\n",
       "        vertical-align: middle;\n",
       "    }\n",
       "\n",
       "    .dataframe tbody tr th {\n",
       "        vertical-align: top;\n",
       "    }\n",
       "\n",
       "    .dataframe thead th {\n",
       "        text-align: right;\n",
       "    }\n",
       "</style>\n",
       "<table border=\"1\" class=\"dataframe\">\n",
       "  <thead>\n",
       "    <tr style=\"text-align: right;\">\n",
       "      <th></th>\n",
       "      <th>missing_total_amounts</th>\n",
       "      <th>missing_paid_amounts</th>\n",
       "    </tr>\n",
       "  </thead>\n",
       "  <tbody>\n",
       "    <tr>\n",
       "      <th>0</th>\n",
       "      <td>0</td>\n",
       "      <td>0</td>\n",
       "    </tr>\n",
       "  </tbody>\n",
       "</table>\n",
       "</div>"
      ],
      "text/plain": [
       "   missing_total_amounts  missing_paid_amounts\n",
       "0                      0                     0"
      ]
     },
     "execution_count": 13,
     "metadata": {},
     "output_type": "execute_result"
    }
   ],
   "source": [
    "# Check for missing values in billing\n",
    "pd.read_sql_query(\"\"\"\n",
    "SELECT \n",
    "    SUM(CASE WHEN total_amount IS NULL THEN 1 ELSE 0 END) AS missing_total_amounts,\n",
    "    SUM(CASE WHEN paid_amount IS NULL THEN 1 ELSE 0 END) AS missing_paid_amounts\n",
    "FROM billing\n",
    "\"\"\", conn)\n"
   ]
  },
  {
   "cell_type": "markdown",
   "metadata": {},
   "source": [
    "###  Cleaning Check: Missing Billing Amounts\n",
    "\n",
    "I checked the `billing` table for missing `total_amount` and `paid_amount` values.\n",
    "No missing billing records were found, ensuring financial completeness.\n"
   ]
  },
  {
   "cell_type": "code",
   "execution_count": 14,
   "metadata": {},
   "outputs": [
    {
     "data": {
      "text/html": [
       "<div>\n",
       "<style scoped>\n",
       "    .dataframe tbody tr th:only-of-type {\n",
       "        vertical-align: middle;\n",
       "    }\n",
       "\n",
       "    .dataframe tbody tr th {\n",
       "        vertical-align: top;\n",
       "    }\n",
       "\n",
       "    .dataframe thead th {\n",
       "        text-align: right;\n",
       "    }\n",
       "</style>\n",
       "<table border=\"1\" class=\"dataframe\">\n",
       "  <thead>\n",
       "    <tr style=\"text-align: right;\">\n",
       "      <th></th>\n",
       "      <th>negative_total_amounts</th>\n",
       "    </tr>\n",
       "  </thead>\n",
       "  <tbody>\n",
       "    <tr>\n",
       "      <th>0</th>\n",
       "      <td>0</td>\n",
       "    </tr>\n",
       "  </tbody>\n",
       "</table>\n",
       "</div>"
      ],
      "text/plain": [
       "   negative_total_amounts\n",
       "0                       0"
      ]
     },
     "execution_count": 14,
     "metadata": {},
     "output_type": "execute_result"
    }
   ],
   "source": [
    "# Check for negative billing values\n",
    "pd.read_sql_query(\"\"\"\n",
    "SELECT COUNT(*) AS negative_total_amounts\n",
    "FROM billing\n",
    "WHERE total_amount < 0 OR paid_amount < 0\n",
    "\"\"\", conn)\n"
   ]
  },
  {
   "cell_type": "markdown",
   "metadata": {},
   "source": [
    "###  Cleaning Check: Negative Billing Amounts\n",
    "\n",
    "I checked for any negative billing amounts.\n",
    "No negative values were found, confirming data accuracy in financial records.\n"
   ]
  },
  {
   "cell_type": "code",
   "execution_count": 15,
   "metadata": {},
   "outputs": [
    {
     "data": {
      "text/html": [
       "<div>\n",
       "<style scoped>\n",
       "    .dataframe tbody tr th:only-of-type {\n",
       "        vertical-align: middle;\n",
       "    }\n",
       "\n",
       "    .dataframe tbody tr th {\n",
       "        vertical-align: top;\n",
       "    }\n",
       "\n",
       "    .dataframe thead th {\n",
       "        text-align: right;\n",
       "    }\n",
       "</style>\n",
       "<table border=\"1\" class=\"dataframe\">\n",
       "  <thead>\n",
       "    <tr style=\"text-align: right;\">\n",
       "      <th></th>\n",
       "      <th>missing_medication_names</th>\n",
       "      <th>missing_dosages</th>\n",
       "      <th>missing_routes</th>\n",
       "    </tr>\n",
       "  </thead>\n",
       "  <tbody>\n",
       "    <tr>\n",
       "      <th>0</th>\n",
       "      <td>0</td>\n",
       "      <td>0</td>\n",
       "      <td>0</td>\n",
       "    </tr>\n",
       "  </tbody>\n",
       "</table>\n",
       "</div>"
      ],
      "text/plain": [
       "   missing_medication_names  missing_dosages  missing_routes\n",
       "0                         0                0               0"
      ]
     },
     "execution_count": 15,
     "metadata": {},
     "output_type": "execute_result"
    }
   ],
   "source": [
    "# Check for missing values in medications\n",
    "pd.read_sql_query(\"\"\"\n",
    "SELECT \n",
    "    SUM(CASE WHEN medication_name IS NULL THEN 1 ELSE 0 END) AS missing_medication_names,\n",
    "    SUM(CASE WHEN dosage IS NULL THEN 1 ELSE 0 END) AS missing_dosages,\n",
    "    SUM(CASE WHEN administration_route IS NULL THEN 1 ELSE 0 END) AS missing_routes\n",
    "FROM medications\n",
    "\"\"\", conn)\n"
   ]
  },
  {
   "cell_type": "markdown",
   "metadata": {},
   "source": [
    "###  Cleaning Check: Medications Table\n",
    "\n",
    "I checked the `medications` table for missing medication names, dosages, and administration routes.\n",
    "No missing values were found, confirming complete medication data records.\n"
   ]
  },
  {
   "cell_type": "code",
   "execution_count": 16,
   "metadata": {},
   "outputs": [
    {
     "data": {
      "text/html": [
       "<div>\n",
       "<style scoped>\n",
       "    .dataframe tbody tr th:only-of-type {\n",
       "        vertical-align: middle;\n",
       "    }\n",
       "\n",
       "    .dataframe tbody tr th {\n",
       "        vertical-align: top;\n",
       "    }\n",
       "\n",
       "    .dataframe thead th {\n",
       "        text-align: right;\n",
       "    }\n",
       "</style>\n",
       "<table border=\"1\" class=\"dataframe\">\n",
       "  <thead>\n",
       "    <tr style=\"text-align: right;\">\n",
       "      <th></th>\n",
       "      <th>administration_route</th>\n",
       "    </tr>\n",
       "  </thead>\n",
       "  <tbody>\n",
       "    <tr>\n",
       "      <th>0</th>\n",
       "      <td>IV</td>\n",
       "    </tr>\n",
       "    <tr>\n",
       "      <th>1</th>\n",
       "      <td>Injection</td>\n",
       "    </tr>\n",
       "    <tr>\n",
       "      <th>2</th>\n",
       "      <td>Oral</td>\n",
       "    </tr>\n",
       "  </tbody>\n",
       "</table>\n",
       "</div>"
      ],
      "text/plain": [
       "  administration_route\n",
       "0                   IV\n",
       "1            Injection\n",
       "2                 Oral"
      ]
     },
     "execution_count": 16,
     "metadata": {},
     "output_type": "execute_result"
    }
   ],
   "source": [
    "pd.read_sql_query(\"\"\"\n",
    "SELECT DISTINCT administration_route\n",
    "FROM medications\n",
    "\"\"\", conn)\n"
   ]
  },
  {
   "cell_type": "markdown",
   "metadata": {},
   "source": [
    "This shows if weird routes were entered (like \"Flying Saucer\" 😂 instead of \"Oral\", \"IV\", \"Injection\").\n",
    "\n"
   ]
  },
  {
   "cell_type": "code",
   "execution_count": 17,
   "metadata": {},
   "outputs": [
    {
     "data": {
      "text/html": [
       "<div>\n",
       "<style scoped>\n",
       "    .dataframe tbody tr th:only-of-type {\n",
       "        vertical-align: middle;\n",
       "    }\n",
       "\n",
       "    .dataframe tbody tr th {\n",
       "        vertical-align: top;\n",
       "    }\n",
       "\n",
       "    .dataframe thead th {\n",
       "        text-align: right;\n",
       "    }\n",
       "</style>\n",
       "<table border=\"1\" class=\"dataframe\">\n",
       "  <thead>\n",
       "    <tr style=\"text-align: right;\">\n",
       "      <th></th>\n",
       "      <th>missing_test_types</th>\n",
       "      <th>missing_test_results</th>\n",
       "      <th>missing_result_dates</th>\n",
       "    </tr>\n",
       "  </thead>\n",
       "  <tbody>\n",
       "    <tr>\n",
       "      <th>0</th>\n",
       "      <td>0</td>\n",
       "      <td>0</td>\n",
       "      <td>0</td>\n",
       "    </tr>\n",
       "  </tbody>\n",
       "</table>\n",
       "</div>"
      ],
      "text/plain": [
       "   missing_test_types  missing_test_results  missing_result_dates\n",
       "0                   0                     0                     0"
      ]
     },
     "execution_count": 17,
     "metadata": {},
     "output_type": "execute_result"
    }
   ],
   "source": [
    "# Check for missing values in test_results\n",
    "pd.read_sql_query(\"\"\"\n",
    "SELECT \n",
    "    SUM(CASE WHEN test_type IS NULL THEN 1 ELSE 0 END) AS missing_test_types,\n",
    "    SUM(CASE WHEN test_result IS NULL THEN 1 ELSE 0 END) AS missing_test_results,\n",
    "    SUM(CASE WHEN result_date IS NULL THEN 1 ELSE 0 END) AS missing_result_dates\n",
    "FROM test_results\n",
    "\"\"\", conn)\n"
   ]
  },
  {
   "cell_type": "markdown",
   "metadata": {},
   "source": [
    "###  Cleaning Check: Test Results Table\n",
    "\n",
    "I checked the `test_results` table for missing `test_type`, `test_result`, and `result_date` values.\n",
    "No missing values were detected, confirming the completeness of the medical testing records.\n"
   ]
  },
  {
   "cell_type": "code",
   "execution_count": 18,
   "metadata": {},
   "outputs": [
    {
     "data": {
      "text/html": [
       "<div>\n",
       "<style scoped>\n",
       "    .dataframe tbody tr th:only-of-type {\n",
       "        vertical-align: middle;\n",
       "    }\n",
       "\n",
       "    .dataframe tbody tr th {\n",
       "        vertical-align: top;\n",
       "    }\n",
       "\n",
       "    .dataframe thead th {\n",
       "        text-align: right;\n",
       "    }\n",
       "</style>\n",
       "<table border=\"1\" class=\"dataframe\">\n",
       "  <thead>\n",
       "    <tr style=\"text-align: right;\">\n",
       "      <th></th>\n",
       "      <th>min_test_result</th>\n",
       "      <th>max_test_result</th>\n",
       "    </tr>\n",
       "  </thead>\n",
       "  <tbody>\n",
       "    <tr>\n",
       "      <th>0</th>\n",
       "      <td>0.5</td>\n",
       "      <td>1.5</td>\n",
       "    </tr>\n",
       "  </tbody>\n",
       "</table>\n",
       "</div>"
      ],
      "text/plain": [
       "   min_test_result  max_test_result\n",
       "0              0.5              1.5"
      ]
     },
     "execution_count": 18,
     "metadata": {},
     "output_type": "execute_result"
    }
   ],
   "source": [
    "# Check for unusual test_result values\n",
    "pd.read_sql_query(\"\"\"\n",
    "SELECT \n",
    "    MIN(test_result) AS min_test_result,\n",
    "    MAX(test_result) AS max_test_result\n",
    "FROM test_results\n",
    "\"\"\", conn)\n"
   ]
  },
  {
   "cell_type": "markdown",
   "metadata": {},
   "source": [
    "###  Cleaning Check: Test Result Value Ranges\n",
    "\n",
    "I checked the minimum and maximum values for `test_result` in the `test_results` table.\n",
    "All values were within an expected medical range, with no extreme outliers detected.\n"
   ]
  },
  {
   "cell_type": "markdown",
   "metadata": {},
   "source": [
    "#  Exploratory Data Analysis (EDA)\n",
    "\n",
    "After cleaning the data, I conducted an initial exploration to understand the structure and contents of each table.\n",
    "\n",
    "This included:\n",
    "\n",
    "- Previewing key tables (`patients`, `admissions`, `billing`, `medications`, `test_results`) using SQL queries (`SELECT * FROM table LIMIT X`)\n",
    "- Counting rows and identifying key columns\n",
    "- Understanding which tables are important for deeper analysis\n",
    "\n"
   ]
  },
  {
   "cell_type": "markdown",
   "id": "358d2d84",
   "metadata": {},
   "source": [
    "###  First Look: Patients Table"
   ]
  },
  {
   "cell_type": "markdown",
   "id": "60ed35ce",
   "metadata": {},
   "source": [
    "###  Admissions Overview"
   ]
  },
  {
   "cell_type": "code",
   "execution_count": 19,
   "metadata": {},
   "outputs": [
    {
     "data": {
      "text/html": [
       "<div>\n",
       "<style scoped>\n",
       "    .dataframe tbody tr th:only-of-type {\n",
       "        vertical-align: middle;\n",
       "    }\n",
       "\n",
       "    .dataframe tbody tr th {\n",
       "        vertical-align: top;\n",
       "    }\n",
       "\n",
       "    .dataframe thead th {\n",
       "        text-align: right;\n",
       "    }\n",
       "</style>\n",
       "<table border=\"1\" class=\"dataframe\">\n",
       "  <thead>\n",
       "    <tr style=\"text-align: right;\">\n",
       "      <th></th>\n",
       "      <th>admission_id</th>\n",
       "      <th>patient_id</th>\n",
       "      <th>hospital_id</th>\n",
       "      <th>doctor_id</th>\n",
       "      <th>admission_date</th>\n",
       "      <th>discharge_date</th>\n",
       "      <th>admission_type</th>\n",
       "      <th>diagnosis_code</th>\n",
       "      <th>condition_description</th>\n",
       "    </tr>\n",
       "  </thead>\n",
       "  <tbody>\n",
       "    <tr>\n",
       "      <th>0</th>\n",
       "      <td>1</td>\n",
       "      <td>2039</td>\n",
       "      <td>41</td>\n",
       "      <td>477</td>\n",
       "      <td>2022-05-14T00:00:00</td>\n",
       "      <td>2022-05-26T00:00:00</td>\n",
       "      <td>Elective</td>\n",
       "      <td>E11</td>\n",
       "      <td>Late by various although reach.</td>\n",
       "    </tr>\n",
       "    <tr>\n",
       "      <th>1</th>\n",
       "      <td>2</td>\n",
       "      <td>4632</td>\n",
       "      <td>26</td>\n",
       "      <td>316</td>\n",
       "      <td>2022-09-18T00:00:00</td>\n",
       "      <td>2022-09-27T00:00:00</td>\n",
       "      <td>Newborn</td>\n",
       "      <td>F32</td>\n",
       "      <td>Buy discover subject.</td>\n",
       "    </tr>\n",
       "    <tr>\n",
       "      <th>2</th>\n",
       "      <td>3</td>\n",
       "      <td>2878</td>\n",
       "      <td>23</td>\n",
       "      <td>72</td>\n",
       "      <td>2022-12-08T00:00:00</td>\n",
       "      <td>2022-12-18T00:00:00</td>\n",
       "      <td>Elective</td>\n",
       "      <td>J45</td>\n",
       "      <td>Interest nearly.</td>\n",
       "    </tr>\n",
       "    <tr>\n",
       "      <th>3</th>\n",
       "      <td>4</td>\n",
       "      <td>8093</td>\n",
       "      <td>32</td>\n",
       "      <td>62</td>\n",
       "      <td>2021-09-05T00:00:00</td>\n",
       "      <td>2021-09-09T00:00:00</td>\n",
       "      <td>Newborn</td>\n",
       "      <td>K21</td>\n",
       "      <td>Thing technology.</td>\n",
       "    </tr>\n",
       "    <tr>\n",
       "      <th>4</th>\n",
       "      <td>5</td>\n",
       "      <td>2837</td>\n",
       "      <td>10</td>\n",
       "      <td>410</td>\n",
       "      <td>2021-06-20T00:00:00</td>\n",
       "      <td>2021-06-29T00:00:00</td>\n",
       "      <td>Elective</td>\n",
       "      <td>F32</td>\n",
       "      <td>Quality position crime finally.</td>\n",
       "    </tr>\n",
       "  </tbody>\n",
       "</table>\n",
       "</div>"
      ],
      "text/plain": [
       "   admission_id  patient_id  hospital_id  doctor_id       admission_date  \\\n",
       "0             1        2039           41        477  2022-05-14T00:00:00   \n",
       "1             2        4632           26        316  2022-09-18T00:00:00   \n",
       "2             3        2878           23         72  2022-12-08T00:00:00   \n",
       "3             4        8093           32         62  2021-09-05T00:00:00   \n",
       "4             5        2837           10        410  2021-06-20T00:00:00   \n",
       "\n",
       "        discharge_date admission_type diagnosis_code  \\\n",
       "0  2022-05-26T00:00:00       Elective            E11   \n",
       "1  2022-09-27T00:00:00        Newborn            F32   \n",
       "2  2022-12-18T00:00:00       Elective            J45   \n",
       "3  2021-09-09T00:00:00        Newborn            K21   \n",
       "4  2021-06-29T00:00:00       Elective            F32   \n",
       "\n",
       "             condition_description  \n",
       "0  Late by various although reach.  \n",
       "1            Buy discover subject.  \n",
       "2                 Interest nearly.  \n",
       "3                Thing technology.  \n",
       "4  Quality position crime finally.  "
      ]
     },
     "execution_count": 19,
     "metadata": {},
     "output_type": "execute_result"
    }
   ],
   "source": [
    "pd.read_sql_query(\"SELECT * FROM admissions LIMIT 5\", conn)"
   ]
  },
  {
   "cell_type": "code",
   "execution_count": 20,
   "id": "dee0698e",
   "metadata": {},
   "outputs": [
    {
     "data": {
      "text/html": [
       "<div>\n",
       "<style scoped>\n",
       "    .dataframe tbody tr th:only-of-type {\n",
       "        vertical-align: middle;\n",
       "    }\n",
       "\n",
       "    .dataframe tbody tr th {\n",
       "        vertical-align: top;\n",
       "    }\n",
       "\n",
       "    .dataframe thead th {\n",
       "        text-align: right;\n",
       "    }\n",
       "</style>\n",
       "<table border=\"1\" class=\"dataframe\">\n",
       "  <thead>\n",
       "    <tr style=\"text-align: right;\">\n",
       "      <th></th>\n",
       "      <th>admission_type</th>\n",
       "      <th>count</th>\n",
       "    </tr>\n",
       "  </thead>\n",
       "  <tbody>\n",
       "    <tr>\n",
       "      <th>0</th>\n",
       "      <td>Newborn</td>\n",
       "      <td>17669</td>\n",
       "    </tr>\n",
       "    <tr>\n",
       "      <th>1</th>\n",
       "      <td>Urgent</td>\n",
       "      <td>17492</td>\n",
       "    </tr>\n",
       "    <tr>\n",
       "      <th>2</th>\n",
       "      <td>Elective</td>\n",
       "      <td>17451</td>\n",
       "    </tr>\n",
       "    <tr>\n",
       "      <th>3</th>\n",
       "      <td>Emergency</td>\n",
       "      <td>17388</td>\n",
       "    </tr>\n",
       "  </tbody>\n",
       "</table>\n",
       "</div>"
      ],
      "text/plain": [
       "  admission_type  count\n",
       "0        Newborn  17669\n",
       "1         Urgent  17492\n",
       "2       Elective  17451\n",
       "3      Emergency  17388"
      ]
     },
     "execution_count": 20,
     "metadata": {},
     "output_type": "execute_result"
    }
   ],
   "source": [
    "pd.read_sql_query(\"\"\"\n",
    "SELECT admission_type, COUNT(*) as count\n",
    "FROM admissions\n",
    "GROUP BY admission_type\n",
    "ORDER BY count DESC\n",
    "\"\"\", conn)"
   ]
  },
  {
   "cell_type": "code",
   "execution_count": 21,
   "metadata": {},
   "outputs": [
    {
     "data": {
      "text/html": [
       "<div>\n",
       "<style scoped>\n",
       "    .dataframe tbody tr th:only-of-type {\n",
       "        vertical-align: middle;\n",
       "    }\n",
       "\n",
       "    .dataframe tbody tr th {\n",
       "        vertical-align: top;\n",
       "    }\n",
       "\n",
       "    .dataframe thead th {\n",
       "        text-align: right;\n",
       "    }\n",
       "</style>\n",
       "<table border=\"1\" class=\"dataframe\">\n",
       "  <thead>\n",
       "    <tr style=\"text-align: right;\">\n",
       "      <th></th>\n",
       "      <th>patient_id</th>\n",
       "      <th>name</th>\n",
       "      <th>gender</th>\n",
       "      <th>birth_date</th>\n",
       "      <th>blood_type</th>\n",
       "    </tr>\n",
       "  </thead>\n",
       "  <tbody>\n",
       "    <tr>\n",
       "      <th>0</th>\n",
       "      <td>1</td>\n",
       "      <td>Joshua Krause</td>\n",
       "      <td>Male</td>\n",
       "      <td>1940-11-24</td>\n",
       "      <td>AB-</td>\n",
       "    </tr>\n",
       "    <tr>\n",
       "      <th>1</th>\n",
       "      <td>2</td>\n",
       "      <td>Danielle Beasley</td>\n",
       "      <td>Male</td>\n",
       "      <td>2004-08-13</td>\n",
       "      <td>A-</td>\n",
       "    </tr>\n",
       "    <tr>\n",
       "      <th>2</th>\n",
       "      <td>3</td>\n",
       "      <td>Kyle Hartman</td>\n",
       "      <td>Other</td>\n",
       "      <td>1991-04-12</td>\n",
       "      <td>A+</td>\n",
       "    </tr>\n",
       "    <tr>\n",
       "      <th>3</th>\n",
       "      <td>4</td>\n",
       "      <td>Darin Tapia</td>\n",
       "      <td>Female</td>\n",
       "      <td>2006-10-27</td>\n",
       "      <td>AB+</td>\n",
       "    </tr>\n",
       "    <tr>\n",
       "      <th>4</th>\n",
       "      <td>5</td>\n",
       "      <td>Jerry Martinez MD</td>\n",
       "      <td>Other</td>\n",
       "      <td>2005-03-06</td>\n",
       "      <td>B-</td>\n",
       "    </tr>\n",
       "  </tbody>\n",
       "</table>\n",
       "</div>"
      ],
      "text/plain": [
       "   patient_id               name  gender  birth_date blood_type\n",
       "0           1      Joshua Krause    Male  1940-11-24        AB-\n",
       "1           2   Danielle Beasley    Male  2004-08-13         A-\n",
       "2           3       Kyle Hartman   Other  1991-04-12         A+\n",
       "3           4        Darin Tapia  Female  2006-10-27        AB+\n",
       "4           5  Jerry Martinez MD   Other  2005-03-06         B-"
      ]
     },
     "execution_count": 21,
     "metadata": {},
     "output_type": "execute_result"
    }
   ],
   "source": [
    "pd.read_sql_query(\"SELECT * FROM patients LIMIT 5\", conn)\n"
   ]
  },
  {
   "cell_type": "code",
   "execution_count": 22,
   "metadata": {},
   "outputs": [
    {
     "data": {
      "text/html": [
       "<div>\n",
       "<style scoped>\n",
       "    .dataframe tbody tr th:only-of-type {\n",
       "        vertical-align: middle;\n",
       "    }\n",
       "\n",
       "    .dataframe tbody tr th {\n",
       "        vertical-align: top;\n",
       "    }\n",
       "\n",
       "    .dataframe thead th {\n",
       "        text-align: right;\n",
       "    }\n",
       "</style>\n",
       "<table border=\"1\" class=\"dataframe\">\n",
       "  <thead>\n",
       "    <tr style=\"text-align: right;\">\n",
       "      <th></th>\n",
       "      <th>gender</th>\n",
       "      <th>count</th>\n",
       "    </tr>\n",
       "  </thead>\n",
       "  <tbody>\n",
       "    <tr>\n",
       "      <th>0</th>\n",
       "      <td>Male</td>\n",
       "      <td>3374</td>\n",
       "    </tr>\n",
       "    <tr>\n",
       "      <th>1</th>\n",
       "      <td>Other</td>\n",
       "      <td>3329</td>\n",
       "    </tr>\n",
       "    <tr>\n",
       "      <th>2</th>\n",
       "      <td>Female</td>\n",
       "      <td>3297</td>\n",
       "    </tr>\n",
       "  </tbody>\n",
       "</table>\n",
       "</div>"
      ],
      "text/plain": [
       "   gender  count\n",
       "0    Male   3374\n",
       "1   Other   3329\n",
       "2  Female   3297"
      ]
     },
     "execution_count": 22,
     "metadata": {},
     "output_type": "execute_result"
    }
   ],
   "source": [
    "pd.read_sql_query(\"\"\"\n",
    "SELECT gender, COUNT(*) AS count\n",
    "FROM patients\n",
    "GROUP BY gender\n",
    "ORDER BY count DESC\n",
    "\"\"\", conn)\n"
   ]
  },
  {
   "cell_type": "markdown",
   "metadata": {},
   "source": [
    "###  Analysis: Patient Gender Distribution\n",
    "\n",
    "We analyzed the `patients` table to find the distribution of genders among all patients.\n",
    "The results show how many patients are Male, Female, or Other.\n",
    "\n",
    "This will help later if we want to analyze admission patterns, medical conditions, or billing differences by gender.\n"
   ]
  },
  {
   "cell_type": "code",
   "execution_count": 23,
   "metadata": {},
   "outputs": [
    {
     "data": {
      "text/html": [
       "<div>\n",
       "<style scoped>\n",
       "    .dataframe tbody tr th:only-of-type {\n",
       "        vertical-align: middle;\n",
       "    }\n",
       "\n",
       "    .dataframe tbody tr th {\n",
       "        vertical-align: top;\n",
       "    }\n",
       "\n",
       "    .dataframe thead th {\n",
       "        text-align: right;\n",
       "    }\n",
       "</style>\n",
       "<table border=\"1\" class=\"dataframe\">\n",
       "  <thead>\n",
       "    <tr style=\"text-align: right;\">\n",
       "      <th></th>\n",
       "      <th>patient_id</th>\n",
       "      <th>name</th>\n",
       "      <th>gender</th>\n",
       "      <th>birth_date</th>\n",
       "      <th>blood_type</th>\n",
       "    </tr>\n",
       "  </thead>\n",
       "  <tbody>\n",
       "    <tr>\n",
       "      <th>0</th>\n",
       "      <td>1</td>\n",
       "      <td>Joshua Krause</td>\n",
       "      <td>Male</td>\n",
       "      <td>1940-11-24</td>\n",
       "      <td>AB-</td>\n",
       "    </tr>\n",
       "    <tr>\n",
       "      <th>1</th>\n",
       "      <td>2</td>\n",
       "      <td>Danielle Beasley</td>\n",
       "      <td>Male</td>\n",
       "      <td>2004-08-13</td>\n",
       "      <td>A-</td>\n",
       "    </tr>\n",
       "    <tr>\n",
       "      <th>2</th>\n",
       "      <td>3</td>\n",
       "      <td>Kyle Hartman</td>\n",
       "      <td>Other</td>\n",
       "      <td>1991-04-12</td>\n",
       "      <td>A+</td>\n",
       "    </tr>\n",
       "    <tr>\n",
       "      <th>3</th>\n",
       "      <td>4</td>\n",
       "      <td>Darin Tapia</td>\n",
       "      <td>Female</td>\n",
       "      <td>2006-10-27</td>\n",
       "      <td>AB+</td>\n",
       "    </tr>\n",
       "    <tr>\n",
       "      <th>4</th>\n",
       "      <td>5</td>\n",
       "      <td>Jerry Martinez MD</td>\n",
       "      <td>Other</td>\n",
       "      <td>2005-03-06</td>\n",
       "      <td>B-</td>\n",
       "    </tr>\n",
       "  </tbody>\n",
       "</table>\n",
       "</div>"
      ],
      "text/plain": [
       "   patient_id               name  gender  birth_date blood_type\n",
       "0           1      Joshua Krause    Male  1940-11-24        AB-\n",
       "1           2   Danielle Beasley    Male  2004-08-13         A-\n",
       "2           3       Kyle Hartman   Other  1991-04-12         A+\n",
       "3           4        Darin Tapia  Female  2006-10-27        AB+\n",
       "4           5  Jerry Martinez MD   Other  2005-03-06         B-"
      ]
     },
     "execution_count": 23,
     "metadata": {},
     "output_type": "execute_result"
    }
   ],
   "source": [
    "pd.read_sql_query(\"SELECT * FROM patients LIMIT 5\", conn)\n"
   ]
  },
  {
   "cell_type": "markdown",
   "metadata": {},
   "source": [
    "We previewed the patients table to check available columns and understand the structure."
   ]
  },
  {
   "cell_type": "code",
   "execution_count": 24,
   "metadata": {},
   "outputs": [
    {
     "data": {
      "text/html": [
       "<div>\n",
       "<style scoped>\n",
       "    .dataframe tbody tr th:only-of-type {\n",
       "        vertical-align: middle;\n",
       "    }\n",
       "\n",
       "    .dataframe tbody tr th {\n",
       "        vertical-align: top;\n",
       "    }\n",
       "\n",
       "    .dataframe thead th {\n",
       "        text-align: right;\n",
       "    }\n",
       "</style>\n",
       "<table border=\"1\" class=\"dataframe\">\n",
       "  <thead>\n",
       "    <tr style=\"text-align: right;\">\n",
       "      <th></th>\n",
       "      <th>blood_type</th>\n",
       "      <th>count</th>\n",
       "    </tr>\n",
       "  </thead>\n",
       "  <tbody>\n",
       "    <tr>\n",
       "      <th>0</th>\n",
       "      <td>B-</td>\n",
       "      <td>1285</td>\n",
       "    </tr>\n",
       "    <tr>\n",
       "      <th>1</th>\n",
       "      <td>AB-</td>\n",
       "      <td>1265</td>\n",
       "    </tr>\n",
       "    <tr>\n",
       "      <th>2</th>\n",
       "      <td>A-</td>\n",
       "      <td>1263</td>\n",
       "    </tr>\n",
       "    <tr>\n",
       "      <th>3</th>\n",
       "      <td>A+</td>\n",
       "      <td>1254</td>\n",
       "    </tr>\n",
       "    <tr>\n",
       "      <th>4</th>\n",
       "      <td>B+</td>\n",
       "      <td>1245</td>\n",
       "    </tr>\n",
       "    <tr>\n",
       "      <th>5</th>\n",
       "      <td>O+</td>\n",
       "      <td>1238</td>\n",
       "    </tr>\n",
       "    <tr>\n",
       "      <th>6</th>\n",
       "      <td>AB+</td>\n",
       "      <td>1238</td>\n",
       "    </tr>\n",
       "    <tr>\n",
       "      <th>7</th>\n",
       "      <td>O-</td>\n",
       "      <td>1212</td>\n",
       "    </tr>\n",
       "  </tbody>\n",
       "</table>\n",
       "</div>"
      ],
      "text/plain": [
       "  blood_type  count\n",
       "0         B-   1285\n",
       "1        AB-   1265\n",
       "2         A-   1263\n",
       "3         A+   1254\n",
       "4         B+   1245\n",
       "5         O+   1238\n",
       "6        AB+   1238\n",
       "7         O-   1212"
      ]
     },
     "execution_count": 24,
     "metadata": {},
     "output_type": "execute_result"
    }
   ],
   "source": [
    "pd.read_sql_query(\"\"\"\n",
    "SELECT blood_type, COUNT(*) AS count\n",
    "FROM patients\n",
    "GROUP BY blood_type\n",
    "ORDER By count DESC\n",
    "\"\"\",conn)"
   ]
  },
  {
   "cell_type": "markdown",
   "metadata": {},
   "source": [
    "###  Analysis: Patient Blood Type Distribution\n",
    "\n",
    "This analysis shows the distribution of blood types among all patients.\n",
    "It helps later if we want to study disease trends, blood transfusion planning, or emergency resource management.\n"
   ]
  },
  {
   "cell_type": "code",
   "execution_count": 25,
   "metadata": {},
   "outputs": [
    {
     "data": {
      "text/html": [
       "<div>\n",
       "<style scoped>\n",
       "    .dataframe tbody tr th:only-of-type {\n",
       "        vertical-align: middle;\n",
       "    }\n",
       "\n",
       "    .dataframe tbody tr th {\n",
       "        vertical-align: top;\n",
       "    }\n",
       "\n",
       "    .dataframe thead th {\n",
       "        text-align: right;\n",
       "    }\n",
       "</style>\n",
       "<table border=\"1\" class=\"dataframe\">\n",
       "  <thead>\n",
       "    <tr style=\"text-align: right;\">\n",
       "      <th></th>\n",
       "      <th>admission_id</th>\n",
       "      <th>patient_id</th>\n",
       "      <th>hospital_id</th>\n",
       "      <th>doctor_id</th>\n",
       "      <th>admission_date</th>\n",
       "      <th>discharge_date</th>\n",
       "      <th>admission_type</th>\n",
       "      <th>diagnosis_code</th>\n",
       "      <th>condition_description</th>\n",
       "    </tr>\n",
       "  </thead>\n",
       "  <tbody>\n",
       "    <tr>\n",
       "      <th>0</th>\n",
       "      <td>1</td>\n",
       "      <td>2039</td>\n",
       "      <td>41</td>\n",
       "      <td>477</td>\n",
       "      <td>2022-05-14T00:00:00</td>\n",
       "      <td>2022-05-26T00:00:00</td>\n",
       "      <td>Elective</td>\n",
       "      <td>E11</td>\n",
       "      <td>Late by various although reach.</td>\n",
       "    </tr>\n",
       "    <tr>\n",
       "      <th>1</th>\n",
       "      <td>2</td>\n",
       "      <td>4632</td>\n",
       "      <td>26</td>\n",
       "      <td>316</td>\n",
       "      <td>2022-09-18T00:00:00</td>\n",
       "      <td>2022-09-27T00:00:00</td>\n",
       "      <td>Newborn</td>\n",
       "      <td>F32</td>\n",
       "      <td>Buy discover subject.</td>\n",
       "    </tr>\n",
       "    <tr>\n",
       "      <th>2</th>\n",
       "      <td>3</td>\n",
       "      <td>2878</td>\n",
       "      <td>23</td>\n",
       "      <td>72</td>\n",
       "      <td>2022-12-08T00:00:00</td>\n",
       "      <td>2022-12-18T00:00:00</td>\n",
       "      <td>Elective</td>\n",
       "      <td>J45</td>\n",
       "      <td>Interest nearly.</td>\n",
       "    </tr>\n",
       "    <tr>\n",
       "      <th>3</th>\n",
       "      <td>4</td>\n",
       "      <td>8093</td>\n",
       "      <td>32</td>\n",
       "      <td>62</td>\n",
       "      <td>2021-09-05T00:00:00</td>\n",
       "      <td>2021-09-09T00:00:00</td>\n",
       "      <td>Newborn</td>\n",
       "      <td>K21</td>\n",
       "      <td>Thing technology.</td>\n",
       "    </tr>\n",
       "    <tr>\n",
       "      <th>4</th>\n",
       "      <td>5</td>\n",
       "      <td>2837</td>\n",
       "      <td>10</td>\n",
       "      <td>410</td>\n",
       "      <td>2021-06-20T00:00:00</td>\n",
       "      <td>2021-06-29T00:00:00</td>\n",
       "      <td>Elective</td>\n",
       "      <td>F32</td>\n",
       "      <td>Quality position crime finally.</td>\n",
       "    </tr>\n",
       "  </tbody>\n",
       "</table>\n",
       "</div>"
      ],
      "text/plain": [
       "   admission_id  patient_id  hospital_id  doctor_id       admission_date  \\\n",
       "0             1        2039           41        477  2022-05-14T00:00:00   \n",
       "1             2        4632           26        316  2022-09-18T00:00:00   \n",
       "2             3        2878           23         72  2022-12-08T00:00:00   \n",
       "3             4        8093           32         62  2021-09-05T00:00:00   \n",
       "4             5        2837           10        410  2021-06-20T00:00:00   \n",
       "\n",
       "        discharge_date admission_type diagnosis_code  \\\n",
       "0  2022-05-26T00:00:00       Elective            E11   \n",
       "1  2022-09-27T00:00:00        Newborn            F32   \n",
       "2  2022-12-18T00:00:00       Elective            J45   \n",
       "3  2021-09-09T00:00:00        Newborn            K21   \n",
       "4  2021-06-29T00:00:00       Elective            F32   \n",
       "\n",
       "             condition_description  \n",
       "0  Late by various although reach.  \n",
       "1            Buy discover subject.  \n",
       "2                 Interest nearly.  \n",
       "3                Thing technology.  \n",
       "4  Quality position crime finally.  "
      ]
     },
     "execution_count": 25,
     "metadata": {},
     "output_type": "execute_result"
    }
   ],
   "source": [
    "pd.read_sql_query(\"SELECT * FROM admissions LIMIT 5\", conn)"
   ]
  },
  {
   "cell_type": "markdown",
   "metadata": {},
   "source": [
    "We previewed the admissions table to check available columns and understand the structure."
   ]
  },
  {
   "cell_type": "code",
   "execution_count": 26,
   "metadata": {},
   "outputs": [
    {
     "data": {
      "text/html": [
       "<div>\n",
       "<style scoped>\n",
       "    .dataframe tbody tr th:only-of-type {\n",
       "        vertical-align: middle;\n",
       "    }\n",
       "\n",
       "    .dataframe tbody tr th {\n",
       "        vertical-align: top;\n",
       "    }\n",
       "\n",
       "    .dataframe thead th {\n",
       "        text-align: right;\n",
       "    }\n",
       "</style>\n",
       "<table border=\"1\" class=\"dataframe\">\n",
       "  <thead>\n",
       "    <tr style=\"text-align: right;\">\n",
       "      <th></th>\n",
       "      <th>admission_type</th>\n",
       "      <th>count</th>\n",
       "    </tr>\n",
       "  </thead>\n",
       "  <tbody>\n",
       "    <tr>\n",
       "      <th>0</th>\n",
       "      <td>Newborn</td>\n",
       "      <td>17669</td>\n",
       "    </tr>\n",
       "    <tr>\n",
       "      <th>1</th>\n",
       "      <td>Urgent</td>\n",
       "      <td>17492</td>\n",
       "    </tr>\n",
       "    <tr>\n",
       "      <th>2</th>\n",
       "      <td>Elective</td>\n",
       "      <td>17451</td>\n",
       "    </tr>\n",
       "    <tr>\n",
       "      <th>3</th>\n",
       "      <td>Emergency</td>\n",
       "      <td>17388</td>\n",
       "    </tr>\n",
       "  </tbody>\n",
       "</table>\n",
       "</div>"
      ],
      "text/plain": [
       "  admission_type  count\n",
       "0        Newborn  17669\n",
       "1         Urgent  17492\n",
       "2       Elective  17451\n",
       "3      Emergency  17388"
      ]
     },
     "execution_count": 26,
     "metadata": {},
     "output_type": "execute_result"
    }
   ],
   "source": [
    "pd.read_sql_query(\"\"\"\n",
    "SELECT admission_type, COUNT(*) AS count\n",
    "FROM admissions\n",
    "GROUP BY admission_type\n",
    "ORDER BY count DESC\n",
    "\"\"\",conn)"
   ]
  },
  {
   "cell_type": "markdown",
   "metadata": {},
   "source": [
    "#  Admissions Analysis\n",
    "\n",
    "In this section, I analyzed hospital admissions to uncover patterns in patient volume, types of admissions, and hospital workloads.\n",
    "\n",
    "The analysis included:\n",
    "\n",
    "- Admission type distribution\n",
    "- Top hospitals by number of admissions\n",
    "- Monthly admission trends\n",
    "- Average length of stay by admission type\n"
   ]
  },
  {
   "cell_type": "markdown",
   "metadata": {},
   "source": [
    "###  Analysis: Admission Type Distribution\n",
    "\n",
    "We analyzed the `admissions` table to find the distribution of hospital admission types.\n",
    "This information helps hospitals allocate resources based on common types of admissions (e.g., emergency services, scheduled surgeries).\n"
   ]
  },
  {
   "cell_type": "code",
   "execution_count": 27,
   "metadata": {},
   "outputs": [
    {
     "data": {
      "text/html": [
       "<div>\n",
       "<style scoped>\n",
       "    .dataframe tbody tr th:only-of-type {\n",
       "        vertical-align: middle;\n",
       "    }\n",
       "\n",
       "    .dataframe tbody tr th {\n",
       "        vertical-align: top;\n",
       "    }\n",
       "\n",
       "    .dataframe thead th {\n",
       "        text-align: right;\n",
       "    }\n",
       "</style>\n",
       "<table border=\"1\" class=\"dataframe\">\n",
       "  <thead>\n",
       "    <tr style=\"text-align: right;\">\n",
       "      <th></th>\n",
       "      <th>hospital_name</th>\n",
       "      <th>total_admissions</th>\n",
       "    </tr>\n",
       "  </thead>\n",
       "  <tbody>\n",
       "    <tr>\n",
       "      <th>0</th>\n",
       "      <td>North Thomas General Hospital</td>\n",
       "      <td>1479</td>\n",
       "    </tr>\n",
       "    <tr>\n",
       "      <th>1</th>\n",
       "      <td>Chadland General Hospital</td>\n",
       "      <td>1467</td>\n",
       "    </tr>\n",
       "    <tr>\n",
       "      <th>2</th>\n",
       "      <td>New Tinaview General Hospital</td>\n",
       "      <td>1456</td>\n",
       "    </tr>\n",
       "    <tr>\n",
       "      <th>3</th>\n",
       "      <td>East Sallybury General Hospital</td>\n",
       "      <td>1455</td>\n",
       "    </tr>\n",
       "    <tr>\n",
       "      <th>4</th>\n",
       "      <td>Port Jessicatown General Hospital</td>\n",
       "      <td>1452</td>\n",
       "    </tr>\n",
       "    <tr>\n",
       "      <th>5</th>\n",
       "      <td>New Tannerville General Hospital</td>\n",
       "      <td>1452</td>\n",
       "    </tr>\n",
       "    <tr>\n",
       "      <th>6</th>\n",
       "      <td>Port Audreyside General Hospital</td>\n",
       "      <td>1449</td>\n",
       "    </tr>\n",
       "    <tr>\n",
       "      <th>7</th>\n",
       "      <td>Masseyshire General Hospital</td>\n",
       "      <td>1449</td>\n",
       "    </tr>\n",
       "    <tr>\n",
       "      <th>8</th>\n",
       "      <td>Barbaraport General Hospital</td>\n",
       "      <td>1449</td>\n",
       "    </tr>\n",
       "    <tr>\n",
       "      <th>9</th>\n",
       "      <td>Changchester General Hospital</td>\n",
       "      <td>1447</td>\n",
       "    </tr>\n",
       "  </tbody>\n",
       "</table>\n",
       "</div>"
      ],
      "text/plain": [
       "                       hospital_name  total_admissions\n",
       "0      North Thomas General Hospital              1479\n",
       "1          Chadland General Hospital              1467\n",
       "2      New Tinaview General Hospital              1456\n",
       "3    East Sallybury General Hospital              1455\n",
       "4  Port Jessicatown General Hospital              1452\n",
       "5   New Tannerville General Hospital              1452\n",
       "6   Port Audreyside General Hospital              1449\n",
       "7       Masseyshire General Hospital              1449\n",
       "8       Barbaraport General Hospital              1449\n",
       "9      Changchester General Hospital              1447"
      ]
     },
     "execution_count": 27,
     "metadata": {},
     "output_type": "execute_result"
    }
   ],
   "source": [
    "pd.read_sql_query(\"\"\"\n",
    "SELECT hospitals.name AS hospital_name, COUNT(*) AS total_admissions\n",
    "FROM admissions\n",
    "JOIN hospitals ON admissions.hospital_id = hospitals.hospital_id\n",
    "GROUP BY hospitals.name\n",
    "ORDER BY total_admissions DESC\n",
    "LIMIT 10\n",
    "\"\"\", conn)\n"
   ]
  },
  {
   "cell_type": "markdown",
   "metadata": {},
   "source": [
    "###  Analysis: Top 10 Hospitals by Number of Admissions\n",
    "\n",
    "I identified the 10 hospitals with the highest number of admissions by performing a SQL JOIN between the `admissions` table and the `hospitals` table.\n",
    "\n",
    "Using a JOIN allowed me to combine hospital names (from `hospitals`) with admission records (from `admissions`) based on the `hospital_id` key.\n",
    "\n",
    "This insight helps prioritize hospital resource allocation and staffing plans.\n",
    "\n"
   ]
  },
  {
   "cell_type": "code",
   "execution_count": 28,
   "metadata": {},
   "outputs": [
    {
     "data": {
      "text/html": [
       "<div>\n",
       "<style scoped>\n",
       "    .dataframe tbody tr th:only-of-type {\n",
       "        vertical-align: middle;\n",
       "    }\n",
       "\n",
       "    .dataframe tbody tr th {\n",
       "        vertical-align: top;\n",
       "    }\n",
       "\n",
       "    .dataframe thead th {\n",
       "        text-align: right;\n",
       "    }\n",
       "</style>\n",
       "<table border=\"1\" class=\"dataframe\">\n",
       "  <thead>\n",
       "    <tr style=\"text-align: right;\">\n",
       "      <th></th>\n",
       "      <th>month</th>\n",
       "      <th>admissions</th>\n",
       "    </tr>\n",
       "  </thead>\n",
       "  <tbody>\n",
       "    <tr>\n",
       "      <th>0</th>\n",
       "      <td>2021-01</td>\n",
       "      <td>1993</td>\n",
       "    </tr>\n",
       "    <tr>\n",
       "      <th>1</th>\n",
       "      <td>2021-02</td>\n",
       "      <td>1799</td>\n",
       "    </tr>\n",
       "    <tr>\n",
       "      <th>2</th>\n",
       "      <td>2021-03</td>\n",
       "      <td>1962</td>\n",
       "    </tr>\n",
       "    <tr>\n",
       "      <th>3</th>\n",
       "      <td>2021-04</td>\n",
       "      <td>1927</td>\n",
       "    </tr>\n",
       "    <tr>\n",
       "      <th>4</th>\n",
       "      <td>2021-05</td>\n",
       "      <td>2049</td>\n",
       "    </tr>\n",
       "    <tr>\n",
       "      <th>5</th>\n",
       "      <td>2021-06</td>\n",
       "      <td>1964</td>\n",
       "    </tr>\n",
       "    <tr>\n",
       "      <th>6</th>\n",
       "      <td>2021-07</td>\n",
       "      <td>2061</td>\n",
       "    </tr>\n",
       "    <tr>\n",
       "      <th>7</th>\n",
       "      <td>2021-08</td>\n",
       "      <td>2027</td>\n",
       "    </tr>\n",
       "    <tr>\n",
       "      <th>8</th>\n",
       "      <td>2021-09</td>\n",
       "      <td>1852</td>\n",
       "    </tr>\n",
       "    <tr>\n",
       "      <th>9</th>\n",
       "      <td>2021-10</td>\n",
       "      <td>1901</td>\n",
       "    </tr>\n",
       "    <tr>\n",
       "      <th>10</th>\n",
       "      <td>2021-11</td>\n",
       "      <td>1845</td>\n",
       "    </tr>\n",
       "    <tr>\n",
       "      <th>11</th>\n",
       "      <td>2021-12</td>\n",
       "      <td>1974</td>\n",
       "    </tr>\n",
       "    <tr>\n",
       "      <th>12</th>\n",
       "      <td>2022-01</td>\n",
       "      <td>2013</td>\n",
       "    </tr>\n",
       "    <tr>\n",
       "      <th>13</th>\n",
       "      <td>2022-02</td>\n",
       "      <td>1821</td>\n",
       "    </tr>\n",
       "    <tr>\n",
       "      <th>14</th>\n",
       "      <td>2022-03</td>\n",
       "      <td>2029</td>\n",
       "    </tr>\n",
       "    <tr>\n",
       "      <th>15</th>\n",
       "      <td>2022-04</td>\n",
       "      <td>1971</td>\n",
       "    </tr>\n",
       "    <tr>\n",
       "      <th>16</th>\n",
       "      <td>2022-05</td>\n",
       "      <td>1898</td>\n",
       "    </tr>\n",
       "    <tr>\n",
       "      <th>17</th>\n",
       "      <td>2022-06</td>\n",
       "      <td>1889</td>\n",
       "    </tr>\n",
       "    <tr>\n",
       "      <th>18</th>\n",
       "      <td>2022-07</td>\n",
       "      <td>1966</td>\n",
       "    </tr>\n",
       "    <tr>\n",
       "      <th>19</th>\n",
       "      <td>2022-08</td>\n",
       "      <td>1969</td>\n",
       "    </tr>\n",
       "    <tr>\n",
       "      <th>20</th>\n",
       "      <td>2022-09</td>\n",
       "      <td>1922</td>\n",
       "    </tr>\n",
       "    <tr>\n",
       "      <th>21</th>\n",
       "      <td>2022-10</td>\n",
       "      <td>1999</td>\n",
       "    </tr>\n",
       "    <tr>\n",
       "      <th>22</th>\n",
       "      <td>2022-11</td>\n",
       "      <td>1963</td>\n",
       "    </tr>\n",
       "    <tr>\n",
       "      <th>23</th>\n",
       "      <td>2022-12</td>\n",
       "      <td>1930</td>\n",
       "    </tr>\n",
       "    <tr>\n",
       "      <th>24</th>\n",
       "      <td>2023-01</td>\n",
       "      <td>2010</td>\n",
       "    </tr>\n",
       "    <tr>\n",
       "      <th>25</th>\n",
       "      <td>2023-02</td>\n",
       "      <td>1828</td>\n",
       "    </tr>\n",
       "    <tr>\n",
       "      <th>26</th>\n",
       "      <td>2023-03</td>\n",
       "      <td>2063</td>\n",
       "    </tr>\n",
       "    <tr>\n",
       "      <th>27</th>\n",
       "      <td>2023-04</td>\n",
       "      <td>1939</td>\n",
       "    </tr>\n",
       "    <tr>\n",
       "      <th>28</th>\n",
       "      <td>2023-05</td>\n",
       "      <td>1928</td>\n",
       "    </tr>\n",
       "    <tr>\n",
       "      <th>29</th>\n",
       "      <td>2023-06</td>\n",
       "      <td>1915</td>\n",
       "    </tr>\n",
       "    <tr>\n",
       "      <th>30</th>\n",
       "      <td>2023-07</td>\n",
       "      <td>1969</td>\n",
       "    </tr>\n",
       "    <tr>\n",
       "      <th>31</th>\n",
       "      <td>2023-08</td>\n",
       "      <td>2023</td>\n",
       "    </tr>\n",
       "    <tr>\n",
       "      <th>32</th>\n",
       "      <td>2023-09</td>\n",
       "      <td>1926</td>\n",
       "    </tr>\n",
       "    <tr>\n",
       "      <th>33</th>\n",
       "      <td>2023-10</td>\n",
       "      <td>1923</td>\n",
       "    </tr>\n",
       "    <tr>\n",
       "      <th>34</th>\n",
       "      <td>2023-11</td>\n",
       "      <td>1861</td>\n",
       "    </tr>\n",
       "    <tr>\n",
       "      <th>35</th>\n",
       "      <td>2023-12</td>\n",
       "      <td>1891</td>\n",
       "    </tr>\n",
       "  </tbody>\n",
       "</table>\n",
       "</div>"
      ],
      "text/plain": [
       "      month  admissions\n",
       "0   2021-01        1993\n",
       "1   2021-02        1799\n",
       "2   2021-03        1962\n",
       "3   2021-04        1927\n",
       "4   2021-05        2049\n",
       "5   2021-06        1964\n",
       "6   2021-07        2061\n",
       "7   2021-08        2027\n",
       "8   2021-09        1852\n",
       "9   2021-10        1901\n",
       "10  2021-11        1845\n",
       "11  2021-12        1974\n",
       "12  2022-01        2013\n",
       "13  2022-02        1821\n",
       "14  2022-03        2029\n",
       "15  2022-04        1971\n",
       "16  2022-05        1898\n",
       "17  2022-06        1889\n",
       "18  2022-07        1966\n",
       "19  2022-08        1969\n",
       "20  2022-09        1922\n",
       "21  2022-10        1999\n",
       "22  2022-11        1963\n",
       "23  2022-12        1930\n",
       "24  2023-01        2010\n",
       "25  2023-02        1828\n",
       "26  2023-03        2063\n",
       "27  2023-04        1939\n",
       "28  2023-05        1928\n",
       "29  2023-06        1915\n",
       "30  2023-07        1969\n",
       "31  2023-08        2023\n",
       "32  2023-09        1926\n",
       "33  2023-10        1923\n",
       "34  2023-11        1861\n",
       "35  2023-12        1891"
      ]
     },
     "execution_count": 28,
     "metadata": {},
     "output_type": "execute_result"
    }
   ],
   "source": [
    "pd.read_sql_query(\"\"\"\n",
    "SELECT strftime('%Y-%m', admission_date) AS month, COUNT(*) AS admissions\n",
    "FROM admissions\n",
    "GROUP BY month\n",
    "ORDER BY month\n",
    "\"\"\", conn)\n"
   ]
  },
  {
   "cell_type": "markdown",
   "metadata": {},
   "source": [
    "###  Analysis: Admissions by Month\n",
    "\n",
    "I analyzed the number of hospital admissions grouped by month to discover seasonal patterns.\n",
    "\n",
    "Understanding when admissions peak can help hospitals optimize staffing, prepare for flu seasons, and plan emergency resources.\n"
   ]
  },
  {
   "cell_type": "code",
   "execution_count": 29,
   "metadata": {},
   "outputs": [
    {
     "data": {
      "image/png": "[encoded data removed]",
      "text/plain": [
       "<Figure size 1200x600 with 1 Axes>"
      ]
     },
     "metadata": {},
     "output_type": "display_data"
    }
   ],
   "source": [
    "import matplotlib.pyplot as plt\n",
    "\n",
    "# Store the query results into a variable\n",
    "admissions_by_month = pd.read_sql_query(\"\"\"\n",
    "SELECT strftime('%Y-%m', admission_date) AS month, COUNT(*) AS admissions\n",
    "FROM admissions\n",
    "GROUP BY month\n",
    "ORDER BY month\n",
    "\"\"\", conn)\n",
    "\n",
    "# Plotting\n",
    "plt.figure(figsize=(12,6))\n",
    "plt.plot(admissions_by_month['month'], admissions_by_month['admissions'], marker='o')\n",
    "plt.xticks(rotation=90)\n",
    "plt.title('Monthly Admissions Trend')\n",
    "plt.xlabel('Month')\n",
    "plt.ylabel('Number of Admissions')\n",
    "plt.grid(True)\n",
    "plt.show()\n"
   ]
  },
  {
   "cell_type": "code",
   "execution_count": 30,
   "metadata": {},
   "outputs": [
    {
     "data": {
      "text/html": [
       "<div>\n",
       "<style scoped>\n",
       "    .dataframe tbody tr th:only-of-type {\n",
       "        vertical-align: middle;\n",
       "    }\n",
       "\n",
       "    .dataframe tbody tr th {\n",
       "        vertical-align: top;\n",
       "    }\n",
       "\n",
       "    .dataframe thead th {\n",
       "        text-align: right;\n",
       "    }\n",
       "</style>\n",
       "<table border=\"1\" class=\"dataframe\">\n",
       "  <thead>\n",
       "    <tr style=\"text-align: right;\">\n",
       "      <th></th>\n",
       "      <th>admission_id</th>\n",
       "      <th>admission_date</th>\n",
       "      <th>discharge_date</th>\n",
       "      <th>length_of_stay</th>\n",
       "    </tr>\n",
       "  </thead>\n",
       "  <tbody>\n",
       "    <tr>\n",
       "      <th>0</th>\n",
       "      <td>1</td>\n",
       "      <td>2022-05-14T00:00:00</td>\n",
       "      <td>2022-05-26T00:00:00</td>\n",
       "      <td>12.0</td>\n",
       "    </tr>\n",
       "    <tr>\n",
       "      <th>1</th>\n",
       "      <td>2</td>\n",
       "      <td>2022-09-18T00:00:00</td>\n",
       "      <td>2022-09-27T00:00:00</td>\n",
       "      <td>9.0</td>\n",
       "    </tr>\n",
       "    <tr>\n",
       "      <th>2</th>\n",
       "      <td>3</td>\n",
       "      <td>2022-12-08T00:00:00</td>\n",
       "      <td>2022-12-18T00:00:00</td>\n",
       "      <td>10.0</td>\n",
       "    </tr>\n",
       "    <tr>\n",
       "      <th>3</th>\n",
       "      <td>4</td>\n",
       "      <td>2021-09-05T00:00:00</td>\n",
       "      <td>2021-09-09T00:00:00</td>\n",
       "      <td>4.0</td>\n",
       "    </tr>\n",
       "    <tr>\n",
       "      <th>4</th>\n",
       "      <td>5</td>\n",
       "      <td>2021-06-20T00:00:00</td>\n",
       "      <td>2021-06-29T00:00:00</td>\n",
       "      <td>9.0</td>\n",
       "    </tr>\n",
       "    <tr>\n",
       "      <th>5</th>\n",
       "      <td>6</td>\n",
       "      <td>2022-04-03T00:00:00</td>\n",
       "      <td>2022-04-07T00:00:00</td>\n",
       "      <td>4.0</td>\n",
       "    </tr>\n",
       "    <tr>\n",
       "      <th>6</th>\n",
       "      <td>7</td>\n",
       "      <td>2022-06-06T00:00:00</td>\n",
       "      <td>2022-06-08T00:00:00</td>\n",
       "      <td>2.0</td>\n",
       "    </tr>\n",
       "    <tr>\n",
       "      <th>7</th>\n",
       "      <td>8</td>\n",
       "      <td>2021-11-07T00:00:00</td>\n",
       "      <td>2021-11-14T00:00:00</td>\n",
       "      <td>7.0</td>\n",
       "    </tr>\n",
       "    <tr>\n",
       "      <th>8</th>\n",
       "      <td>9</td>\n",
       "      <td>2021-04-06T00:00:00</td>\n",
       "      <td>2021-04-16T00:00:00</td>\n",
       "      <td>10.0</td>\n",
       "    </tr>\n",
       "    <tr>\n",
       "      <th>9</th>\n",
       "      <td>10</td>\n",
       "      <td>2023-10-15T00:00:00</td>\n",
       "      <td>2023-10-18T00:00:00</td>\n",
       "      <td>3.0</td>\n",
       "    </tr>\n",
       "  </tbody>\n",
       "</table>\n",
       "</div>"
      ],
      "text/plain": [
       "   admission_id       admission_date       discharge_date  length_of_stay\n",
       "0             1  2022-05-14T00:00:00  2022-05-26T00:00:00            12.0\n",
       "1             2  2022-09-18T00:00:00  2022-09-27T00:00:00             9.0\n",
       "2             3  2022-12-08T00:00:00  2022-12-18T00:00:00            10.0\n",
       "3             4  2021-09-05T00:00:00  2021-09-09T00:00:00             4.0\n",
       "4             5  2021-06-20T00:00:00  2021-06-29T00:00:00             9.0\n",
       "5             6  2022-04-03T00:00:00  2022-04-07T00:00:00             4.0\n",
       "6             7  2022-06-06T00:00:00  2022-06-08T00:00:00             2.0\n",
       "7             8  2021-11-07T00:00:00  2021-11-14T00:00:00             7.0\n",
       "8             9  2021-04-06T00:00:00  2021-04-16T00:00:00            10.0\n",
       "9            10  2023-10-15T00:00:00  2023-10-18T00:00:00             3.0"
      ]
     },
     "execution_count": 30,
     "metadata": {},
     "output_type": "execute_result"
    }
   ],
   "source": [
    "pd.read_sql_query(\"\"\"\n",
    "SELECT \n",
    "    admission_id,\n",
    "    admission_date,\n",
    "    discharge_date,\n",
    "    julianday(discharge_date) - julianday(admission_date) AS length_of_stay\n",
    "FROM admissions\n",
    "LIMIT 10\n",
    "\"\"\", conn)\n"
   ]
  },
  {
   "cell_type": "markdown",
   "metadata": {},
   "source": [
    "###  Preview: Patient Length of Stay Calculation\n",
    "\n",
    "I calculated the length of stay for patients by subtracting the admission date from the discharge date using SQL `julianday()` function.\n",
    "\n",
    "Previewed the first 10 patient stays to verify the calculation logic, which was correct.\n"
   ]
  },
  {
   "cell_type": "code",
   "execution_count": 31,
   "metadata": {},
   "outputs": [
    {
     "data": {
      "text/html": [
       "<div>\n",
       "<style scoped>\n",
       "    .dataframe tbody tr th:only-of-type {\n",
       "        vertical-align: middle;\n",
       "    }\n",
       "\n",
       "    .dataframe tbody tr th {\n",
       "        vertical-align: top;\n",
       "    }\n",
       "\n",
       "    .dataframe thead th {\n",
       "        text-align: right;\n",
       "    }\n",
       "</style>\n",
       "<table border=\"1\" class=\"dataframe\">\n",
       "  <thead>\n",
       "    <tr style=\"text-align: right;\">\n",
       "      <th></th>\n",
       "      <th>average_length</th>\n",
       "    </tr>\n",
       "  </thead>\n",
       "  <tbody>\n",
       "    <tr>\n",
       "      <th>0</th>\n",
       "      <td>7.5</td>\n",
       "    </tr>\n",
       "  </tbody>\n",
       "</table>\n",
       "</div>"
      ],
      "text/plain": [
       "   average_length\n",
       "0             7.5"
      ]
     },
     "execution_count": 31,
     "metadata": {},
     "output_type": "execute_result"
    }
   ],
   "source": [
    "pd.read_sql_query(\"\"\"\n",
    "SELECT\n",
    "    ROUND(AVG(julianday(discharge_date) - julianday(admission_date)), 2) AS average_length\n",
    "FROM admissions\n",
    "\"\"\", conn)"
   ]
  },
  {
   "cell_type": "markdown",
   "metadata": {},
   "source": [
    "###  Analysis: Average Length of Hospital Stay\n",
    "\n",
    "I calculated the average length of stay across all patient admissions.\n",
    "\n",
    "Using the SQL `AVG()` function on the difference between discharge and admission dates, I found that patients stay an average of approximately 7,5 days in the hospital.\n",
    "\n",
    "This information is valuable for hospital bed management and planning patient flow.\n"
   ]
  },
  {
   "cell_type": "markdown",
   "metadata": {},
   "source": [
    " Now we calculate separate averages for:\n",
    "\n",
    "Emergency admissions\n",
    "\n",
    "Elective admissions\n",
    "\n",
    "Urgent admissions\n",
    "\n",
    "Newborn admissions\n",
    "\n",
    "This gives way more insight:\n",
    "\n",
    "\"Do Emergency patients stay longer than Elective ones?\""
   ]
  },
  {
   "cell_type": "code",
   "execution_count": 32,
   "metadata": {},
   "outputs": [
    {
     "data": {
      "text/html": [
       "<div>\n",
       "<style scoped>\n",
       "    .dataframe tbody tr th:only-of-type {\n",
       "        vertical-align: middle;\n",
       "    }\n",
       "\n",
       "    .dataframe tbody tr th {\n",
       "        vertical-align: top;\n",
       "    }\n",
       "\n",
       "    .dataframe thead th {\n",
       "        text-align: right;\n",
       "    }\n",
       "</style>\n",
       "<table border=\"1\" class=\"dataframe\">\n",
       "  <thead>\n",
       "    <tr style=\"text-align: right;\">\n",
       "      <th></th>\n",
       "      <th>admission_type</th>\n",
       "      <th>average_length_of_stay</th>\n",
       "    </tr>\n",
       "  </thead>\n",
       "  <tbody>\n",
       "    <tr>\n",
       "      <th>0</th>\n",
       "      <td>Urgent</td>\n",
       "      <td>7.52</td>\n",
       "    </tr>\n",
       "    <tr>\n",
       "      <th>1</th>\n",
       "      <td>Newborn</td>\n",
       "      <td>7.50</td>\n",
       "    </tr>\n",
       "    <tr>\n",
       "      <th>2</th>\n",
       "      <td>Elective</td>\n",
       "      <td>7.50</td>\n",
       "    </tr>\n",
       "    <tr>\n",
       "      <th>3</th>\n",
       "      <td>Emergency</td>\n",
       "      <td>7.47</td>\n",
       "    </tr>\n",
       "  </tbody>\n",
       "</table>\n",
       "</div>"
      ],
      "text/plain": [
       "  admission_type  average_length_of_stay\n",
       "0         Urgent                    7.52\n",
       "1        Newborn                    7.50\n",
       "2       Elective                    7.50\n",
       "3      Emergency                    7.47"
      ]
     },
     "execution_count": 32,
     "metadata": {},
     "output_type": "execute_result"
    }
   ],
   "source": [
    "pd.read_sql_query(\"\"\"\n",
    "SELECT \n",
    "    admission_type,\n",
    "    ROUND(AVG(julianday(discharge_date) - julianday(admission_date)), 2) AS average_length_of_stay\n",
    "FROM admissions\n",
    "GROUP BY admission_type\n",
    "ORDER BY average_length_of_stay DESC\n",
    "\"\"\", conn)\n"
   ]
  },
  {
   "cell_type": "markdown",
   "metadata": {},
   "source": [
    "###  Analysis: Average Length of Stay by Admission Type\n",
    "\n",
    "I calculated the average length of hospital stay separately for each `admission_type` (Emergency, Elective, Urgent, Newborn).\n",
    "\n",
    "This analysis highlights which types of admissions typically require longer hospitalization periods.\n",
    "\n",
    "For example, \"Do Emergency admissions have longer stays compared to Elective surgeries.\" the answer is no, as we see there is nosignificant difference.\n"
   ]
  },
  {
   "cell_type": "code",
   "execution_count": 33,
   "metadata": {},
   "outputs": [
    {
     "data": {
      "image/png": "[encoded data removed]",
      "text/plain": [
       "<Figure size 1000x600 with 1 Axes>"
      ]
     },
     "metadata": {},
     "output_type": "display_data"
    }
   ],
   "source": [
    "import matplotlib.pyplot as plt\n",
    "\n",
    "# Make sure we have the data ready (if you restarted)\n",
    "avg_stay_by_type = pd.read_sql_query(\"\"\"\n",
    "SELECT \n",
    "    admission_type,\n",
    "    ROUND(AVG(julianday(discharge_date) - julianday(admission_date)), 2) AS average_length_of_stay\n",
    "FROM admissions\n",
    "GROUP BY admission_type\n",
    "ORDER BY average_length_of_stay DESC\n",
    "\"\"\", conn)\n",
    "\n",
    "# Plot horizontal bar chart\n",
    "plt.figure(figsize=(10,6))\n",
    "bars = plt.barh(avg_stay_by_type['admission_type'], avg_stay_by_type['average_length_of_stay'], color='skyblue')\n",
    "plt.title('Average Length of Stay by Admission Type')\n",
    "plt.xlabel('Average Length of Stay (days)')\n",
    "plt.ylabel('Admission Type')\n",
    "plt.grid(axis='x')\n",
    "\n",
    "# Add value labels next to bars\n",
    "for bar in bars:\n",
    "    xval = bar.get_width()\n",
    "    plt.text(xval + 0.05, bar.get_y() + bar.get_height()/2.0, round(xval, 2), va='center')\n",
    "\n",
    "plt.tight_layout()\n",
    "plt.show()\n",
    "\n"
   ]
  },
  {
   "cell_type": "markdown",
   "metadata": {},
   "source": [
    "###  Visualization: Average Stay by Admission Type (Horizontal Bar Chart)\n",
    "\n",
    "I created a horizontal bar chart to visualize the average hospital stay length for each `admission_type`.\n",
    "\n",
    "Adding exact value labels improves clarity, especially when the differences between categories are small.\n",
    "\n",
    "Horizontal layout also makes it easier to read admission types compared to a vertical plot.\n",
    "\n"
   ]
  },
  {
   "cell_type": "code",
   "execution_count": 34,
   "metadata": {},
   "outputs": [
    {
     "data": {
      "text/html": [
       "<div>\n",
       "<style scoped>\n",
       "    .dataframe tbody tr th:only-of-type {\n",
       "        vertical-align: middle;\n",
       "    }\n",
       "\n",
       "    .dataframe tbody tr th {\n",
       "        vertical-align: top;\n",
       "    }\n",
       "\n",
       "    .dataframe thead th {\n",
       "        text-align: right;\n",
       "    }\n",
       "</style>\n",
       "<table border=\"1\" class=\"dataframe\">\n",
       "  <thead>\n",
       "    <tr style=\"text-align: right;\">\n",
       "      <th></th>\n",
       "      <th>payment_status</th>\n",
       "      <th>number_of_bills</th>\n",
       "    </tr>\n",
       "  </thead>\n",
       "  <tbody>\n",
       "    <tr>\n",
       "      <th>0</th>\n",
       "      <td>Partially Paid</td>\n",
       "      <td>70000</td>\n",
       "    </tr>\n",
       "  </tbody>\n",
       "</table>\n",
       "</div>"
      ],
      "text/plain": [
       "   payment_status  number_of_bills\n",
       "0  Partially Paid            70000"
      ]
     },
     "execution_count": 34,
     "metadata": {},
     "output_type": "execute_result"
    }
   ],
   "source": [
    "pd.read_sql_query(\"\"\"\n",
    "SELECT \n",
    "    CASE \n",
    "        WHEN paid_amount >= total_amount THEN 'Paid in Full'\n",
    "        WHEN paid_amount = 0 THEN 'Unpaid'\n",
    "        ELSE 'Partially Paid'\n",
    "    END AS payment_status,\n",
    "    COUNT(*) AS number_of_bills\n",
    "FROM billing\n",
    "GROUP BY payment_status\n",
    "\"\"\", conn)\n"
   ]
  },
  {
   "cell_type": "markdown",
   "metadata": {},
   "source": [
    "#  Billing Analysis\n",
    "\n",
    "This section analyzes hospital billing data to uncover financial patterns and revenue challenges.\n",
    "\n",
    "The analysis included:\n",
    "\n",
    "- Total billed amounts vs total paid amounts\n",
    "- Revenue gap (unpaid amounts)\n",
    "- Average paid amount by admission type\n"
   ]
  },
  {
   "cell_type": "markdown",
   "metadata": {},
   "source": [
    "###  Analysis: Billing Payment Status\n",
    "\n",
    "I analyzed the `billing` table to classify hospital bills as 'Paid in Full', 'Unpaid', or 'Partially Paid'.\n",
    "\n",
    "In this synthetic dataset, 100% of the billing records were classified as 'Partially Paid', with no fully paid or fully unpaid bills.\n",
    "\n",
    "This result reflects how the synthetic data was generated, and in a real-world scenario, we would expect a mix of fully paid, unpaid, and partially paid bills.\n",
    "\n",
    "Understanding payment behaviors remains critical for hospital financial risk management.\n"
   ]
  },
  {
   "cell_type": "code",
   "execution_count": 35,
   "metadata": {},
   "outputs": [
    {
     "data": {
      "text/html": [
       "<div>\n",
       "<style scoped>\n",
       "    .dataframe tbody tr th:only-of-type {\n",
       "        vertical-align: middle;\n",
       "    }\n",
       "\n",
       "    .dataframe tbody tr th {\n",
       "        vertical-align: top;\n",
       "    }\n",
       "\n",
       "    .dataframe thead th {\n",
       "        text-align: right;\n",
       "    }\n",
       "</style>\n",
       "<table border=\"1\" class=\"dataframe\">\n",
       "  <thead>\n",
       "    <tr style=\"text-align: right;\">\n",
       "      <th></th>\n",
       "      <th>total_billed</th>\n",
       "      <th>total_paid</th>\n",
       "      <th>total_unpaid</th>\n",
       "    </tr>\n",
       "  </thead>\n",
       "  <tbody>\n",
       "    <tr>\n",
       "      <th>0</th>\n",
       "      <td>5.399121e+08</td>\n",
       "      <td>4.319771e+08</td>\n",
       "      <td>1.079350e+08</td>\n",
       "    </tr>\n",
       "  </tbody>\n",
       "</table>\n",
       "</div>"
      ],
      "text/plain": [
       "   total_billed    total_paid  total_unpaid\n",
       "0  5.399121e+08  4.319771e+08  1.079350e+08"
      ]
     },
     "execution_count": 35,
     "metadata": {},
     "output_type": "execute_result"
    }
   ],
   "source": [
    "pd.read_sql_query(\"\"\"\n",
    "SELECT \n",
    "    ROUND(SUM(total_amount), 2) AS total_billed,\n",
    "    ROUND(SUM(paid_amount), 2) AS total_paid,\n",
    "    ROUND(SUM(total_amount) - SUM(paid_amount), 2) AS total_unpaid\n",
    "FROM billing\n",
    "\"\"\", conn)\n"
   ]
  },
  {
   "cell_type": "markdown",
   "metadata": {},
   "source": [
    "###  Analysis: Total Revenue vs Billing Gap\n",
    "\n",
    "I calculated the total revenue collected compared to the total amount billed across all hospital billing records.\n",
    "\n",
    "This financial gap shows how much money hospitals are missing, which is critical for assessing cash flow and financial risks.\n",
    "\n",
    "In a real-world scenario, minimizing the unpaid gap is essential for hospital sustainability.\n"
   ]
  },
  {
   "cell_type": "code",
   "execution_count": 4,
   "metadata": {},
   "outputs": [
    {
     "data": {
      "image/png": "[encoded data removed]",
      "text/plain": [
       "<Figure size 800x600 with 1 Axes>"
      ]
     },
     "metadata": {},
     "output_type": "display_data"
    }
   ],
   "source": [
    "import matplotlib.pyplot as plt\n",
    "\n",
    "# Query totals into a small DataFrame\n",
    "billing_totals = pd.read_sql_query(\"\"\"\n",
    "SELECT \n",
    "    ROUND(SUM(total_amount), 2) AS total_billed,\n",
    "    ROUND(SUM(paid_amount), 2) AS total_paid,\n",
    "    ROUND(SUM(total_amount) - SUM(paid_amount), 2) AS total_unpaid\n",
    "FROM billing\n",
    "\"\"\", conn)\n",
    "\n",
    "# Prepare data for plotting\n",
    "categories = ['Total Billed', 'Total Paid', 'Total Unpaid']\n",
    "values = [billing_totals['total_billed'][0], billing_totals['total_paid'][0], billing_totals['total_unpaid'][0]]\n",
    "\n",
    "# Plot\n",
    "plt.figure(figsize=(8,6))\n",
    "bars = plt.bar(categories, values, color=['skyblue', 'lightgreen', 'salmon'])\n",
    "plt.title('Hospital Billing Overview')\n",
    "plt.ylabel('Amount (USD)')\n",
    "plt.grid(axis='y')\n",
    "\n",
    "# Add value labels on top of bars\n",
    "for bar in bars:\n",
    "    yval = bar.get_height()\n",
    "    plt.text(bar.get_x() + bar.get_width()/2.0, yval + 0.05, f\"${yval:,.2f}\", ha='center', va='bottom')\n",
    "\n",
    "plt.tight_layout()\n",
    "plt.show()\n"
   ]
  },
  {
   "cell_type": "markdown",
   "metadata": {},
   "source": [
    "###  Visualization: Hospital Billing Revenue and Gaps\n",
    "\n",
    "I created a bar chart showing total billed amounts, total collected payments, and the total unpaid balance.\n",
    "\n",
    "This visualization highlights the financial gap hospitals face between expected revenue and actual collections.\n",
    "\n",
    "All values are assumed to be in US dollars (USD), for the purpose of this analysis..\n"
   ]
  },
  {
   "cell_type": "markdown",
   "metadata": {},
   "source": [
    "#  Medications Analysis\n",
    "\n",
    "In this section, I analyzed medication prescription patterns across the hospital admissions.\n",
    "\n",
    "The analysis included:\n",
    "\n",
    "- Top 10 most prescribed medications\n",
    "- Administration methods (oral, intravenous, etc.)\n",
    "- Prescription patterns by admission type (Emergency vs Elective)\n"
   ]
  },
  {
   "cell_type": "code",
   "execution_count": 5,
   "metadata": {},
   "outputs": [
    {
     "data": {
      "text/html": [
       "<div>\n",
       "<style scoped>\n",
       "    .dataframe tbody tr th:only-of-type {\n",
       "        vertical-align: middle;\n",
       "    }\n",
       "\n",
       "    .dataframe tbody tr th {\n",
       "        vertical-align: top;\n",
       "    }\n",
       "\n",
       "    .dataframe thead th {\n",
       "        text-align: right;\n",
       "    }\n",
       "</style>\n",
       "<table border=\"1\" class=\"dataframe\">\n",
       "  <thead>\n",
       "    <tr style=\"text-align: right;\">\n",
       "      <th></th>\n",
       "      <th>medication_name</th>\n",
       "      <th>prescription_count</th>\n",
       "    </tr>\n",
       "  </thead>\n",
       "  <tbody>\n",
       "    <tr>\n",
       "      <th>0</th>\n",
       "      <td>Ibuprofen</td>\n",
       "      <td>28078</td>\n",
       "    </tr>\n",
       "    <tr>\n",
       "      <th>1</th>\n",
       "      <td>Amoxicillin</td>\n",
       "      <td>28055</td>\n",
       "    </tr>\n",
       "    <tr>\n",
       "      <th>2</th>\n",
       "      <td>Paracetamol</td>\n",
       "      <td>28016</td>\n",
       "    </tr>\n",
       "    <tr>\n",
       "      <th>3</th>\n",
       "      <td>Lisinopril</td>\n",
       "      <td>27956</td>\n",
       "    </tr>\n",
       "    <tr>\n",
       "      <th>4</th>\n",
       "      <td>Atorvastatin</td>\n",
       "      <td>27895</td>\n",
       "    </tr>\n",
       "  </tbody>\n",
       "</table>\n",
       "</div>"
      ],
      "text/plain": [
       "  medication_name  prescription_count\n",
       "0       Ibuprofen               28078\n",
       "1     Amoxicillin               28055\n",
       "2     Paracetamol               28016\n",
       "3      Lisinopril               27956\n",
       "4    Atorvastatin               27895"
      ]
     },
     "execution_count": 5,
     "metadata": {},
     "output_type": "execute_result"
    }
   ],
   "source": [
    "pd.read_sql_query(\"\"\"\n",
    "SELECT \n",
    "    medication_name,\n",
    "    COUNT(*) AS prescription_count\n",
    "FROM medications\n",
    "GROUP BY medication_name\n",
    "ORDER BY prescription_count DESC\n",
    "LIMIT 10\n",
    "\"\"\", conn)\n"
   ]
  },
  {
   "cell_type": "markdown",
   "metadata": {},
   "source": [
    "###  Analysis: Top 10 Most Prescribed Medications\n",
    "\n",
    "I analyzed the `medications` table to identify the top 10 most commonly prescribed medications.\n",
    "\n",
    "Understanding common prescriptions helps hospitals manage inventory and budget effectively.\n"
   ]
  },
  {
   "cell_type": "code",
   "execution_count": 36,
   "metadata": {},
   "outputs": [
    {
     "data": {
      "text/html": [
       "<div>\n",
       "<style scoped>\n",
       "    .dataframe tbody tr th:only-of-type {\n",
       "        vertical-align: middle;\n",
       "    }\n",
       "\n",
       "    .dataframe tbody tr th {\n",
       "        vertical-align: top;\n",
       "    }\n",
       "\n",
       "    .dataframe thead th {\n",
       "        text-align: right;\n",
       "    }\n",
       "</style>\n",
       "<table border=\"1\" class=\"dataframe\">\n",
       "  <thead>\n",
       "    <tr style=\"text-align: right;\">\n",
       "      <th></th>\n",
       "      <th>administration_route</th>\n",
       "      <th>count</th>\n",
       "    </tr>\n",
       "  </thead>\n",
       "  <tbody>\n",
       "    <tr>\n",
       "      <th>0</th>\n",
       "      <td>Injection</td>\n",
       "      <td>46886</td>\n",
       "    </tr>\n",
       "    <tr>\n",
       "      <th>1</th>\n",
       "      <td>IV</td>\n",
       "      <td>46663</td>\n",
       "    </tr>\n",
       "    <tr>\n",
       "      <th>2</th>\n",
       "      <td>Oral</td>\n",
       "      <td>46451</td>\n",
       "    </tr>\n",
       "  </tbody>\n",
       "</table>\n",
       "</div>"
      ],
      "text/plain": [
       "  administration_route  count\n",
       "0            Injection  46886\n",
       "1                   IV  46663\n",
       "2                 Oral  46451"
      ]
     },
     "execution_count": 36,
     "metadata": {},
     "output_type": "execute_result"
    }
   ],
   "source": [
    "pd.read_sql_query(\"\"\"\n",
    "SELECT \n",
    "    administration_route,\n",
    "    COUNT(*) AS count\n",
    "FROM medications\n",
    "GROUP BY administration_route\n",
    "ORDER BY count DESC\n",
    "\"\"\", conn)\n"
   ]
  },
  {
   "cell_type": "markdown",
   "metadata": {},
   "source": [
    "###  Analysis: Medication Administration Routes\n",
    "\n",
    "I analyzed the `medications` table to understand how medications are administered (oral, intravenous, injection, etc.).\n",
    "\n",
    "Identifying the most common administration routes helps hospitals plan for supply needs (such as syringes, IV lines, or oral medications).\n"
   ]
  },
  {
   "cell_type": "code",
   "execution_count": 37,
   "metadata": {},
   "outputs": [
    {
     "data": {
      "text/html": [
       "<div>\n",
       "<style scoped>\n",
       "    .dataframe tbody tr th:only-of-type {\n",
       "        vertical-align: middle;\n",
       "    }\n",
       "\n",
       "    .dataframe tbody tr th {\n",
       "        vertical-align: top;\n",
       "    }\n",
       "\n",
       "    .dataframe thead th {\n",
       "        text-align: right;\n",
       "    }\n",
       "</style>\n",
       "<table border=\"1\" class=\"dataframe\">\n",
       "  <thead>\n",
       "    <tr style=\"text-align: right;\">\n",
       "      <th></th>\n",
       "      <th>test_type</th>\n",
       "      <th>number_of_tests</th>\n",
       "    </tr>\n",
       "  </thead>\n",
       "  <tbody>\n",
       "    <tr>\n",
       "      <th>0</th>\n",
       "      <td>X-Ray</td>\n",
       "      <td>20127</td>\n",
       "    </tr>\n",
       "    <tr>\n",
       "      <th>1</th>\n",
       "      <td>Blood Test</td>\n",
       "      <td>20041</td>\n",
       "    </tr>\n",
       "    <tr>\n",
       "      <th>2</th>\n",
       "      <td>CT Scan</td>\n",
       "      <td>20029</td>\n",
       "    </tr>\n",
       "    <tr>\n",
       "      <th>3</th>\n",
       "      <td>Urine Test</td>\n",
       "      <td>19924</td>\n",
       "    </tr>\n",
       "    <tr>\n",
       "      <th>4</th>\n",
       "      <td>MRI</td>\n",
       "      <td>19879</td>\n",
       "    </tr>\n",
       "  </tbody>\n",
       "</table>\n",
       "</div>"
      ],
      "text/plain": [
       "    test_type  number_of_tests\n",
       "0       X-Ray            20127\n",
       "1  Blood Test            20041\n",
       "2     CT Scan            20029\n",
       "3  Urine Test            19924\n",
       "4         MRI            19879"
      ]
     },
     "execution_count": 37,
     "metadata": {},
     "output_type": "execute_result"
    }
   ],
   "source": [
    "pd.read_sql_query(\"\"\"\n",
    "SELECT \n",
    "    test_type,\n",
    "    COUNT(*) AS number_of_tests\n",
    "FROM test_results\n",
    "GROUP BY test_type\n",
    "ORDER BY number_of_tests DESC\n",
    "\"\"\", conn)\n"
   ]
  },
  {
   "cell_type": "markdown",
   "metadata": {},
   "source": [
    "###  Analysis: Most Common Medical Test Types\n",
    "\n",
    "I analyzed the `test_results` table to find the most frequently performed medical tests.\n",
    "\n",
    "Understanding the distribution of test types helps hospitals allocate lab resources and prioritize test equipment needs.\n"
   ]
  },
  {
   "cell_type": "code",
   "execution_count": 38,
   "metadata": {},
   "outputs": [
    {
     "data": {
      "text/html": [
       "<div>\n",
       "<style scoped>\n",
       "    .dataframe tbody tr th:only-of-type {\n",
       "        vertical-align: middle;\n",
       "    }\n",
       "\n",
       "    .dataframe tbody tr th {\n",
       "        vertical-align: top;\n",
       "    }\n",
       "\n",
       "    .dataframe thead th {\n",
       "        text-align: right;\n",
       "    }\n",
       "</style>\n",
       "<table border=\"1\" class=\"dataframe\">\n",
       "  <thead>\n",
       "    <tr style=\"text-align: right;\">\n",
       "      <th></th>\n",
       "      <th>test_type</th>\n",
       "      <th>average_test_result</th>\n",
       "    </tr>\n",
       "  </thead>\n",
       "  <tbody>\n",
       "    <tr>\n",
       "      <th>0</th>\n",
       "      <td>CT Scan</td>\n",
       "      <td>1.01</td>\n",
       "    </tr>\n",
       "    <tr>\n",
       "      <th>1</th>\n",
       "      <td>X-Ray</td>\n",
       "      <td>1.00</td>\n",
       "    </tr>\n",
       "    <tr>\n",
       "      <th>2</th>\n",
       "      <td>Urine Test</td>\n",
       "      <td>1.00</td>\n",
       "    </tr>\n",
       "    <tr>\n",
       "      <th>3</th>\n",
       "      <td>MRI</td>\n",
       "      <td>1.00</td>\n",
       "    </tr>\n",
       "    <tr>\n",
       "      <th>4</th>\n",
       "      <td>Blood Test</td>\n",
       "      <td>1.00</td>\n",
       "    </tr>\n",
       "  </tbody>\n",
       "</table>\n",
       "</div>"
      ],
      "text/plain": [
       "    test_type  average_test_result\n",
       "0     CT Scan                 1.01\n",
       "1       X-Ray                 1.00\n",
       "2  Urine Test                 1.00\n",
       "3         MRI                 1.00\n",
       "4  Blood Test                 1.00"
      ]
     },
     "execution_count": 38,
     "metadata": {},
     "output_type": "execute_result"
    }
   ],
   "source": [
    "pd.read_sql_query(\"\"\"\n",
    "SELECT \n",
    "    test_type,\n",
    "    ROUND(AVG(test_result), 2) AS average_test_result\n",
    "FROM test_results\n",
    "GROUP BY test_type\n",
    "ORDER BY average_test_result DESC\n",
    "\"\"\", conn)\n"
   ]
  },
  {
   "cell_type": "markdown",
   "metadata": {},
   "source": [
    "###  Analysis: Average Test Result by Test Type\n",
    "\n",
    "I calculated the average `test_result` value for each medical test type.\n",
    "\n",
    "In this synthetic dataset, average test results across different test types were very similar, centered around 1.00. \n",
    "\n",
    "This reflects how the synthetic data was generated with a small randomized range. In a real-world scenario, test result ranges would vary significantly depending on the type of medical test and its clinical unit of measurement.\n"
   ]
  },
  {
   "cell_type": "code",
   "execution_count": 39,
   "metadata": {},
   "outputs": [
    {
     "data": {
      "image/png": "[encoded data removed]",
      "text/plain": [
       "<Figure size 1000x600 with 1 Axes>"
      ]
     },
     "metadata": {},
     "output_type": "display_data"
    }
   ],
   "source": [
    "avg_test_result = pd.read_sql_query(\"\"\"\n",
    "SELECT \n",
    "    test_type,\n",
    "    ROUND(AVG(test_result), 2) AS average_test_result\n",
    "FROM test_results\n",
    "GROUP BY test_type\n",
    "ORDER BY average_test_result DESC\n",
    "\"\"\", conn)\n",
    "\n",
    "\n",
    "plt.figure(figsize=(10,6))\n",
    "bars = plt.barh(avg_test_result['test_type'], avg_test_result['average_test_result'], color='lightblue')\n",
    "plt.title('Average Test Result by Test Type')\n",
    "plt.xlabel('Average Test Result')\n",
    "plt.ylabel('Test Type')\n",
    "plt.grid(axis='x')\n",
    "\n",
    "# Add value labels next to bars\n",
    "for bar in bars:\n",
    "    xval = bar.get_width()\n",
    "    plt.text(xval + 0.01, bar.get_y() + bar.get_height()/2.0, round(xval, 2), va='center')\n",
    "\n",
    "plt.tight_layout()\n",
    "plt.show()\n"
   ]
  },
  {
   "cell_type": "markdown",
   "id": "f8680071",
   "metadata": {},
   "source": [
    "### 📊 Visualization: Average Test Result by Test Type\n",
    "\n",
    "I created a horizontal bar chart to visualize the average test result across different test types.\n",
    "\n",
    "Due to the synthetic nature of the dataset, all average test result values cluster very closely around 1.00, showing minimal variation between different test categories.\n",
    "\n",
    "In a real-world healthcare dataset, we would expect wider variation depending on the type of medical test and its measurement units."
   ]
  },
  {
   "cell_type": "code",
   "execution_count": 43,
   "metadata": {},
   "outputs": [
    {
     "name": "stdout",
     "output_type": "stream",
     "text": [
      "Correlation between Length of Stay and Paid Amount: -0.00\n"
     ]
    }
   ],
   "source": [
    "# Create a dataset: Length of stay and Paid amount\n",
    "stay_vs_payment = pd.read_sql_query(\"\"\"\n",
    "SELECT \n",
    "    julianday(discharge_date) - julianday(admission_date) AS length_of_stay,\n",
    "    paid_amount\n",
    "FROM admissions\n",
    "JOIN billing ON admissions.admission_id = billing.admission_id\n",
    "WHERE discharge_date IS NOT NULL\n",
    "\"\"\", conn)\n",
    "\n",
    "# Calculate the Pearson correlation\n",
    "correlation = stay_vs_payment['length_of_stay'].corr(stay_vs_payment['paid_amount'])\n",
    "print(f\"Correlation between Length of Stay and Paid Amount: {correlation:.2f}\")\n"
   ]
  },
  {
   "cell_type": "markdown",
   "metadata": {},
   "source": [
    "### 📈 Correlation Analysis: Length of Stay vs Paid Amount\n",
    "\n",
    "I calculated the Pearson correlation coefficient between patient length of stay and the amount paid.\n",
    "\n",
    "A positive correlation would suggest that patients who stay longer tend to pay higher amounts, while a near-zero correlation would suggest no strong relationship.\n",
    "\n",
    "[Result: Correlation = 0.00]\n"
   ]
  },
  {
   "cell_type": "markdown",
   "metadata": {},
   "source": [
    "# 🧪 Test Results Analysis\n",
    "\n",
    "In this section, I explored medical test result data to understand normal result distributions and identify potential abnormalities.\n",
    "\n",
    "The analysis included:\n",
    "\n",
    "- Most common types of medical tests\n",
    "- Average test result values by test type\n",
    "- Overall distribution of test result values\n",
    "- Detection of any extreme test result outliers\n"
   ]
  },
  {
   "cell_type": "code",
   "execution_count": 44,
   "metadata": {},
   "outputs": [
    {
     "data": {
      "text/html": [
       "<div>\n",
       "<style scoped>\n",
       "    .dataframe tbody tr th:only-of-type {\n",
       "        vertical-align: middle;\n",
       "    }\n",
       "\n",
       "    .dataframe tbody tr th {\n",
       "        vertical-align: top;\n",
       "    }\n",
       "\n",
       "    .dataframe thead th {\n",
       "        text-align: right;\n",
       "    }\n",
       "</style>\n",
       "<table border=\"1\" class=\"dataframe\">\n",
       "  <thead>\n",
       "    <tr style=\"text-align: right;\">\n",
       "      <th></th>\n",
       "      <th>admission_type</th>\n",
       "      <th>length_of_stay</th>\n",
       "    </tr>\n",
       "  </thead>\n",
       "  <tbody>\n",
       "    <tr>\n",
       "      <th>0</th>\n",
       "      <td>Elective</td>\n",
       "      <td>12.0</td>\n",
       "    </tr>\n",
       "    <tr>\n",
       "      <th>1</th>\n",
       "      <td>Elective</td>\n",
       "      <td>10.0</td>\n",
       "    </tr>\n",
       "    <tr>\n",
       "      <th>2</th>\n",
       "      <td>Elective</td>\n",
       "      <td>9.0</td>\n",
       "    </tr>\n",
       "    <tr>\n",
       "      <th>3</th>\n",
       "      <td>Elective</td>\n",
       "      <td>7.0</td>\n",
       "    </tr>\n",
       "    <tr>\n",
       "      <th>4</th>\n",
       "      <td>Elective</td>\n",
       "      <td>10.0</td>\n",
       "    </tr>\n",
       "  </tbody>\n",
       "</table>\n",
       "</div>"
      ],
      "text/plain": [
       "  admission_type  length_of_stay\n",
       "0       Elective            12.0\n",
       "1       Elective            10.0\n",
       "2       Elective             9.0\n",
       "3       Elective             7.0\n",
       "4       Elective            10.0"
      ]
     },
     "execution_count": 44,
     "metadata": {},
     "output_type": "execute_result"
    }
   ],
   "source": [
    "# Create a dataset: length of stay and admission type\n",
    "stay_by_type = pd.read_sql_query(\"\"\"\n",
    "SELECT \n",
    "    admission_type,\n",
    "    julianday(discharge_date) - julianday(admission_date) AS length_of_stay\n",
    "FROM admissions\n",
    "WHERE discharge_date IS NOT NULL\n",
    "AND admission_type IN ('Emergency', 'Elective')\n",
    "\"\"\", conn)\n",
    "\n",
    "# Preview\n",
    "stay_by_type.head()\n"
   ]
  },
  {
   "cell_type": "code",
   "execution_count": 7,
   "metadata": {},
   "outputs": [
    {
     "name": "stdout",
     "output_type": "stream",
     "text": [
      "Collecting scipy\n",
      "  Downloading scipy-1.15.2-cp312-cp312-macosx_14_0_x86_64.whl.metadata (61 kB)\n",
      "Requirement already satisfied: numpy<2.5,>=1.23.5 in ./venv/lib/python3.12/site-packages (from scipy) (2.2.5)\n",
      "Downloading scipy-1.15.2-cp312-cp312-macosx_14_0_x86_64.whl (25.2 MB)\n",
      "\u001b[2K   \u001b[90m━━━━━━━━━━━━━━━━━━━━━━━━━━━━━━━━━━━━━━━━\u001b[0m \u001b[32m25.2/25.2 MB\u001b[0m \u001b[31m14.0 MB/s\u001b[0m eta \u001b[36m0:00:00\u001b[0ma \u001b[36m0:00:01\u001b[0m\n",
      "\u001b[?25hInstalling collected packages: scipy\n",
      "Successfully installed scipy-1.15.2\n"
     ]
    }
   ],
   "source": [
    "!pip3 install scipy"
   ]
  },
  {
   "cell_type": "code",
   "execution_count": 45,
   "metadata": {},
   "outputs": [
    {
     "name": "stdout",
     "output_type": "stream",
     "text": [
      "t-statistic: -0.72\n",
      "p-value: 0.4741\n"
     ]
    }
   ],
   "source": [
    "from scipy.stats import ttest_ind\n",
    "\n",
    "# Split into two groups\n",
    "emergency_stays = stay_by_type[stay_by_type['admission_type'] == 'Emergency']['length_of_stay']\n",
    "elective_stays = stay_by_type[stay_by_type['admission_type'] == 'Elective']['length_of_stay']\n",
    "\n",
    "# Run t-test\n",
    "t_stat, p_value = ttest_ind(emergency_stays, elective_stays, equal_var=False)\n",
    "\n",
    "print(f\"t-statistic: {t_stat:.2f}\")\n",
    "print(f\"p-value: {p_value:.4f}\")\n"
   ]
  },
  {
   "cell_type": "markdown",
   "metadata": {},
   "source": [
    "### 🧪 Hypothesis Testing: Emergency vs Elective Admissions\n",
    "\n",
    "**Null Hypothesis (H₀):**  \n",
    "There is no significant difference in average length of stay between Emergency and Elective admissions.\n",
    "\n",
    "**Alternative Hypothesis (H₁):**  \n",
    "There is a significant difference in average length of stay between Emergency and Elective admissions.\n",
    "\n",
    "I performed an independent two-sample t-test.\n",
    "\n",
    "**Results:**  \n",
    "- t-statistic = -0.72\n",
    "- p-value = 0.4741\n",
    "\n",
    "Since p > 0.05, I fail to reject the null hypothesis.\n",
    "\n",
    "This suggests that, based on the data available, there is no statistically significant difference in average hospital stay length between Emergency and Elective admissions.\n",
    "\n"
   ]
  },
  {
   "cell_type": "code",
   "execution_count": 46,
   "metadata": {},
   "outputs": [
    {
     "name": "stderr",
     "output_type": "stream",
     "text": [
      "/var/folders/b9/pvvr6hv50855m46y_0gsscr40000gn/T/ipykernel_95549/2803100535.py:9: MatplotlibDeprecationWarning: The 'labels' parameter of boxplot() has been renamed 'tick_labels' since Matplotlib 3.9; support for the old name will be dropped in 3.11.\n",
      "  plt.boxplot([emergency_stays, elective_stays], labels=['Emergency', 'Elective'])\n"
     ]
    },
    {
     "data": {
      "image/png": "[encoded data removed]",
      "text/plain": [
       "<Figure size 800x600 with 1 Axes>"
      ]
     },
     "metadata": {},
     "output_type": "display_data"
    }
   ],
   "source": [
    "import matplotlib.pyplot as plt\n",
    "\n",
    "# Prepare the data\n",
    "emergency_stays = stay_by_type[stay_by_type['admission_type'] == 'Emergency']['length_of_stay']\n",
    "elective_stays = stay_by_type[stay_by_type['admission_type'] == 'Elective']['length_of_stay']\n",
    "\n",
    "# Plot boxplots\n",
    "plt.figure(figsize=(8,6))\n",
    "plt.boxplot([emergency_stays, elective_stays], labels=['Emergency', 'Elective'])\n",
    "plt.title('Length of Stay Comparison: Emergency vs Elective Admissions')\n",
    "plt.ylabel('Length of Stay (days)')\n",
    "plt.grid(axis='y')\n",
    "plt.show()\n"
   ]
  },
  {
   "cell_type": "markdown",
   "metadata": {},
   "source": [
    "### 📊 Visualization: Length of Stay for Emergency vs Elective Admissions\n",
    "\n",
    "I created a boxplot to compare the distribution of hospital stay lengths between Emergency and Elective admissions.\n",
    "\n",
    "The visualization shows similar medians and spreads between the two groups, which is consistent with the t-test result indicating no statistically significant difference.\n"
   ]
  },
  {
   "cell_type": "code",
   "execution_count": 47,
   "metadata": {},
   "outputs": [
    {
     "data": {
      "text/html": [
       "<div>\n",
       "<style scoped>\n",
       "    .dataframe tbody tr th:only-of-type {\n",
       "        vertical-align: middle;\n",
       "    }\n",
       "\n",
       "    .dataframe tbody tr th {\n",
       "        vertical-align: top;\n",
       "    }\n",
       "\n",
       "    .dataframe thead th {\n",
       "        text-align: right;\n",
       "    }\n",
       "</style>\n",
       "<table border=\"1\" class=\"dataframe\">\n",
       "  <thead>\n",
       "    <tr style=\"text-align: right;\">\n",
       "      <th></th>\n",
       "      <th>month</th>\n",
       "      <th>number_of_admissions</th>\n",
       "    </tr>\n",
       "  </thead>\n",
       "  <tbody>\n",
       "    <tr>\n",
       "      <th>0</th>\n",
       "      <td>2021-01</td>\n",
       "      <td>1993</td>\n",
       "    </tr>\n",
       "    <tr>\n",
       "      <th>1</th>\n",
       "      <td>2021-02</td>\n",
       "      <td>1799</td>\n",
       "    </tr>\n",
       "    <tr>\n",
       "      <th>2</th>\n",
       "      <td>2021-03</td>\n",
       "      <td>1962</td>\n",
       "    </tr>\n",
       "    <tr>\n",
       "      <th>3</th>\n",
       "      <td>2021-04</td>\n",
       "      <td>1927</td>\n",
       "    </tr>\n",
       "    <tr>\n",
       "      <th>4</th>\n",
       "      <td>2021-05</td>\n",
       "      <td>2049</td>\n",
       "    </tr>\n",
       "  </tbody>\n",
       "</table>\n",
       "</div>"
      ],
      "text/plain": [
       "     month  number_of_admissions\n",
       "0  2021-01                  1993\n",
       "1  2021-02                  1799\n",
       "2  2021-03                  1962\n",
       "3  2021-04                  1927\n",
       "4  2021-05                  2049"
      ]
     },
     "execution_count": 47,
     "metadata": {},
     "output_type": "execute_result"
    }
   ],
   "source": [
    "# Admissions by month\n",
    "admissions_by_month = pd.read_sql_query(\"\"\"\n",
    "SELECT \n",
    "    strftime('%Y-%m', admission_date) AS month,\n",
    "    COUNT(*) AS number_of_admissions\n",
    "FROM admissions\n",
    "GROUP BY month\n",
    "ORDER BY month\n",
    "\"\"\", conn)\n",
    "\n",
    "admissions_by_month.head()\n"
   ]
  },
  {
   "cell_type": "code",
   "execution_count": 48,
   "metadata": {},
   "outputs": [
    {
     "data": {
      "image/png": "[encoded data removed]",
      "text/plain": [
       "<Figure size 1200x600 with 1 Axes>"
      ]
     },
     "metadata": {},
     "output_type": "display_data"
    }
   ],
   "source": [
    "import matplotlib.pyplot as plt\n",
    "\n",
    "plt.figure(figsize=(12,6))\n",
    "plt.plot(admissions_by_month['month'], admissions_by_month['number_of_admissions'], marker='o')\n",
    "plt.title('Monthly Hospital Admissions Trend')\n",
    "plt.xlabel('Month')\n",
    "plt.ylabel('Number of Admissions')\n",
    "plt.xticks(rotation=45)\n",
    "plt.grid(True)\n",
    "plt.tight_layout()\n",
    "plt.show()\n"
   ]
  },
  {
   "cell_type": "markdown",
   "metadata": {},
   "source": [
    "### 📈 Admissions Trends Over Time\n",
    "\n",
    "I analyzed the hospital admission counts by month to identify seasonal trends in patient volume.\n",
    "\n",
    "The line chart shows fluctuations in monthly admissions, which can be useful for hospital staffing and resource planning.\n"
   ]
  },
  {
   "cell_type": "code",
   "execution_count": 49,
   "metadata": {},
   "outputs": [
    {
     "data": {
      "text/html": [
       "<div>\n",
       "<style scoped>\n",
       "    .dataframe tbody tr th:only-of-type {\n",
       "        vertical-align: middle;\n",
       "    }\n",
       "\n",
       "    .dataframe tbody tr th {\n",
       "        vertical-align: top;\n",
       "    }\n",
       "\n",
       "    .dataframe thead th {\n",
       "        text-align: right;\n",
       "    }\n",
       "</style>\n",
       "<table border=\"1\" class=\"dataframe\">\n",
       "  <thead>\n",
       "    <tr style=\"text-align: right;\">\n",
       "      <th></th>\n",
       "      <th>admission_type</th>\n",
       "      <th>average_paid_amount</th>\n",
       "    </tr>\n",
       "  </thead>\n",
       "  <tbody>\n",
       "    <tr>\n",
       "      <th>0</th>\n",
       "      <td>Elective</td>\n",
       "      <td>6190.56</td>\n",
       "    </tr>\n",
       "    <tr>\n",
       "      <th>1</th>\n",
       "      <td>Newborn</td>\n",
       "      <td>6181.10</td>\n",
       "    </tr>\n",
       "    <tr>\n",
       "      <th>2</th>\n",
       "      <td>Emergency</td>\n",
       "      <td>6178.41</td>\n",
       "    </tr>\n",
       "    <tr>\n",
       "      <th>3</th>\n",
       "      <td>Urgent</td>\n",
       "      <td>6134.32</td>\n",
       "    </tr>\n",
       "  </tbody>\n",
       "</table>\n",
       "</div>"
      ],
      "text/plain": [
       "  admission_type  average_paid_amount\n",
       "0       Elective              6190.56\n",
       "1        Newborn              6181.10\n",
       "2      Emergency              6178.41\n",
       "3         Urgent              6134.32"
      ]
     },
     "execution_count": 49,
     "metadata": {},
     "output_type": "execute_result"
    }
   ],
   "source": [
    "# Average paid amount by admission type\n",
    "billing_by_admission_type = pd.read_sql_query(\"\"\"\n",
    "SELECT \n",
    "    a.admission_type,\n",
    "    ROUND(AVG(b.paid_amount), 2) AS average_paid_amount\n",
    "FROM billing b\n",
    "JOIN admissions a ON a.admission_id = b.admission_id\n",
    "GROUP BY a.admission_type\n",
    "ORDER BY average_paid_amount DESC\n",
    "\"\"\", conn)\n",
    "\n",
    "billing_by_admission_type\n"
   ]
  },
  {
   "cell_type": "code",
   "execution_count": 50,
   "metadata": {},
   "outputs": [
    {
     "data": {
      "image/png": "[encoded data removed]",
      "text/plain": [
       "<Figure size 1000x600 with 1 Axes>"
      ]
     },
     "metadata": {},
     "output_type": "display_data"
    }
   ],
   "source": [
    "plt.figure(figsize=(10,6))\n",
    "bars = plt.bar(billing_by_admission_type['admission_type'], billing_by_admission_type['average_paid_amount'], color='skyblue')\n",
    "plt.title('Average Paid Amount by Admission Type')\n",
    "plt.xlabel('Admission Type')\n",
    "plt.ylabel('Average Paid Amount (USD)')\n",
    "plt.grid(axis='y')\n",
    "\n",
    "# Add value labels\n",
    "for bar in bars:\n",
    "    yval = bar.get_height()\n",
    "    plt.text(bar.get_x() + bar.get_width()/2.0, yval + 5, f\"${yval:,.2f}\", ha='center', va='bottom')\n",
    "\n",
    "plt.tight_layout()\n",
    "plt.show()\n"
   ]
  },
  {
   "cell_type": "markdown",
   "metadata": {},
   "source": [
    "### 💸 Billing Patterns: Average Paid Amount by Admission Type\n",
    "\n",
    "I analyzed billing data to calculate the average amount paid per admission type.\n",
    "\n",
    "The bar chart shows differences in financial contributions between Emergency, Elective, Urgent, and Newborn admission types, which can help hospitals plan revenue expectations.\n"
   ]
  },
  {
   "cell_type": "code",
   "execution_count": 51,
   "metadata": {},
   "outputs": [
    {
     "data": {
      "text/html": [
       "<div>\n",
       "<style scoped>\n",
       "    .dataframe tbody tr th:only-of-type {\n",
       "        vertical-align: middle;\n",
       "    }\n",
       "\n",
       "    .dataframe tbody tr th {\n",
       "        vertical-align: top;\n",
       "    }\n",
       "\n",
       "    .dataframe thead th {\n",
       "        text-align: right;\n",
       "    }\n",
       "</style>\n",
       "<table border=\"1\" class=\"dataframe\">\n",
       "  <thead>\n",
       "    <tr style=\"text-align: right;\">\n",
       "      <th></th>\n",
       "      <th>test_type</th>\n",
       "      <th>test_result</th>\n",
       "    </tr>\n",
       "  </thead>\n",
       "  <tbody>\n",
       "    <tr>\n",
       "      <th>0</th>\n",
       "      <td>X-Ray</td>\n",
       "      <td>1.16</td>\n",
       "    </tr>\n",
       "    <tr>\n",
       "      <th>1</th>\n",
       "      <td>Urine Test</td>\n",
       "      <td>1.15</td>\n",
       "    </tr>\n",
       "    <tr>\n",
       "      <th>2</th>\n",
       "      <td>CT Scan</td>\n",
       "      <td>1.05</td>\n",
       "    </tr>\n",
       "    <tr>\n",
       "      <th>3</th>\n",
       "      <td>X-Ray</td>\n",
       "      <td>0.52</td>\n",
       "    </tr>\n",
       "    <tr>\n",
       "      <th>4</th>\n",
       "      <td>MRI</td>\n",
       "      <td>0.65</td>\n",
       "    </tr>\n",
       "  </tbody>\n",
       "</table>\n",
       "</div>"
      ],
      "text/plain": [
       "    test_type  test_result\n",
       "0       X-Ray         1.16\n",
       "1  Urine Test         1.15\n",
       "2     CT Scan         1.05\n",
       "3       X-Ray         0.52\n",
       "4         MRI         0.65"
      ]
     },
     "execution_count": 51,
     "metadata": {},
     "output_type": "execute_result"
    }
   ],
   "source": [
    "# Quick look at overall test result distribution\n",
    "test_result_distribution = pd.read_sql_query(\"\"\"\n",
    "SELECT \n",
    "    test_type,\n",
    "    test_result\n",
    "FROM test_results\n",
    "\"\"\", conn)\n",
    "\n",
    "test_result_distribution.head()\n"
   ]
  },
  {
   "cell_type": "code",
   "execution_count": 52,
   "metadata": {},
   "outputs": [
    {
     "data": {
      "text/plain": [
       "count    100000.000000\n",
       "mean          1.001481\n",
       "std           0.289006\n",
       "min           0.500000\n",
       "25%           0.750000\n",
       "50%           1.000000\n",
       "75%           1.250000\n",
       "max           1.500000\n",
       "Name: test_result, dtype: float64"
      ]
     },
     "execution_count": 52,
     "metadata": {},
     "output_type": "execute_result"
    }
   ],
   "source": [
    "# Basic summary\n",
    "test_result_distribution['test_result'].describe()\n"
   ]
  },
  {
   "cell_type": "code",
   "execution_count": 53,
   "metadata": {},
   "outputs": [
    {
     "data": {
      "image/png": "[encoded data removed]",
      "text/plain": [
       "<Figure size 1000x600 with 1 Axes>"
      ]
     },
     "metadata": {},
     "output_type": "display_data"
    }
   ],
   "source": [
    "plt.figure(figsize=(10,6))\n",
    "plt.hist(test_result_distribution['test_result'], bins=30, color='lightcoral', edgecolor='black')\n",
    "plt.title('Distribution of Test Results')\n",
    "plt.xlabel('Test Result Value')\n",
    "plt.ylabel('Number of Tests')\n",
    "plt.grid(axis='y')\n",
    "plt.tight_layout()\n",
    "plt.show()\n"
   ]
  },
  {
   "cell_type": "code",
   "execution_count": 54,
   "metadata": {},
   "outputs": [
    {
     "data": {
      "text/html": [
       "<div>\n",
       "<style scoped>\n",
       "    .dataframe tbody tr th:only-of-type {\n",
       "        vertical-align: middle;\n",
       "    }\n",
       "\n",
       "    .dataframe tbody tr th {\n",
       "        vertical-align: top;\n",
       "    }\n",
       "\n",
       "    .dataframe thead th {\n",
       "        text-align: right;\n",
       "    }\n",
       "</style>\n",
       "<table border=\"1\" class=\"dataframe\">\n",
       "  <thead>\n",
       "    <tr style=\"text-align: right;\">\n",
       "      <th></th>\n",
       "      <th>admission_type</th>\n",
       "      <th>medication_name</th>\n",
       "      <th>prescription_count</th>\n",
       "    </tr>\n",
       "  </thead>\n",
       "  <tbody>\n",
       "    <tr>\n",
       "      <th>0</th>\n",
       "      <td>Elective</td>\n",
       "      <td>Amoxicillin</td>\n",
       "      <td>7091</td>\n",
       "    </tr>\n",
       "    <tr>\n",
       "      <th>1</th>\n",
       "      <td>Elective</td>\n",
       "      <td>Paracetamol</td>\n",
       "      <td>7077</td>\n",
       "    </tr>\n",
       "    <tr>\n",
       "      <th>2</th>\n",
       "      <td>Elective</td>\n",
       "      <td>Atorvastatin</td>\n",
       "      <td>7067</td>\n",
       "    </tr>\n",
       "    <tr>\n",
       "      <th>3</th>\n",
       "      <td>Elective</td>\n",
       "      <td>Lisinopril</td>\n",
       "      <td>7042</td>\n",
       "    </tr>\n",
       "    <tr>\n",
       "      <th>4</th>\n",
       "      <td>Elective</td>\n",
       "      <td>Ibuprofen</td>\n",
       "      <td>6896</td>\n",
       "    </tr>\n",
       "  </tbody>\n",
       "</table>\n",
       "</div>"
      ],
      "text/plain": [
       "  admission_type medication_name  prescription_count\n",
       "0       Elective     Amoxicillin                7091\n",
       "1       Elective     Paracetamol                7077\n",
       "2       Elective    Atorvastatin                7067\n",
       "3       Elective      Lisinopril                7042\n",
       "4       Elective       Ibuprofen                6896"
      ]
     },
     "execution_count": 54,
     "metadata": {},
     "output_type": "execute_result"
    }
   ],
   "source": [
    "# Join medications and admissions to see medication patterns\n",
    "medications_by_type = pd.read_sql_query(\"\"\"\n",
    "SELECT \n",
    "    a.admission_type,\n",
    "    m.medication_name,\n",
    "    COUNT(*) AS prescription_count\n",
    "FROM medications m\n",
    "JOIN admissions a ON m.admission_id = a.admission_id\n",
    "GROUP BY a.admission_type, m.medication_name\n",
    "ORDER BY a.admission_type, prescription_count DESC\n",
    "\"\"\", conn)\n",
    "\n",
    "medications_by_type.head()\n"
   ]
  },
  {
   "cell_type": "code",
   "execution_count": 55,
   "metadata": {},
   "outputs": [
    {
     "data": {
      "text/plain": [
       "(  admission_type medication_name  prescription_count\n",
       " 5      Emergency     Paracetamol                7100\n",
       " 6      Emergency      Lisinopril                7008\n",
       " 7      Emergency     Amoxicillin                6984\n",
       " 8      Emergency       Ibuprofen                6954\n",
       " 9      Emergency    Atorvastatin                6930,\n",
       "   admission_type medication_name  prescription_count\n",
       " 0       Elective     Amoxicillin                7091\n",
       " 1       Elective     Paracetamol                7077\n",
       " 2       Elective    Atorvastatin                7067\n",
       " 3       Elective      Lisinopril                7042\n",
       " 4       Elective       Ibuprofen                6896)"
      ]
     },
     "execution_count": 55,
     "metadata": {},
     "output_type": "execute_result"
    }
   ],
   "source": [
    "# Filter to Emergency and Elective\n",
    "emergency_meds = medications_by_type[medications_by_type['admission_type'] == 'Emergency'].head(5)\n",
    "elective_meds = medications_by_type[medications_by_type['admission_type'] == 'Elective'].head(5)\n",
    "\n",
    "emergency_meds, elective_meds\n"
   ]
  },
  {
   "cell_type": "markdown",
   "metadata": {},
   "source": [
    "### 💊 Medication Patterns by Admission Type\n",
    "\n",
    "I analyzed medication prescription patterns for different admission types.\n",
    "\n",
    "Comparing Emergency and Elective patients helps hospitals understand differences in treatment approaches and stock management needs.\n",
    "\n",
    "The results show the top prescribed medications for Emergency and Elective admissions separately.\n"
   ]
  },
  {
   "cell_type": "code",
   "execution_count": null,
   "metadata": {},
   "outputs": [],
   "source": []
  },
  {
   "cell_type": "markdown",
   "metadata": {},
   "source": [
    "### 🧪 Test Result Abnormalities: Distribution Analysis\n",
    "\n",
    "I analyzed the distribution of all medical test results.\n",
    "\n",
    "The histogram shows whether test results are clustered around normal expected values or if there are unusual outliers that could indicate abnormal test cases.\n"
   ]
  },
  {
   "cell_type": "code",
   "execution_count": 56,
   "id": "47357cf4",
   "metadata": {},
   "outputs": [],
   "source": [
    "# Close the connection when you're done\n",
    "conn.close()"
   ]
  },
  {
   "cell_type": "code",
   "execution_count": null,
   "id": "ebc0db6b",
   "metadata": {},
   "outputs": [],
   "source": []
  }
 ],
 "metadata": {
  "kernelspec": {
   "display_name": "venv",
   "language": "python",
   "name": "python3"
  },
  "language_info": {
   "codemirror_mode": {
    "name": "ipython",
    "version": 3
   },
   "file_extension": ".py",
   "mimetype": "text/x-python",
   "name": "python",
   "nbconvert_exporter": "python",
   "pygments_lexer": "ipython3",
   "version": "3.12.10"
  }
 },
 "nbformat": 4,
 "nbformat_minor": 5
}
