{
 "cells": [
  {
   "cell_type": "markdown",
   "id": "9fba006e",
   "metadata": {},
   "source": [
    "# 🏥 Healthcare SQL + Python Portfolio Project\n",
    "\n",
    "### Project Overview\n",
    "\n",
    "In this project, I explored synthetic healthcare data to gain insights into hospital admissions, patient billing, medication patterns, and test results.\n",
    "\n",
    "I applied SQL inside Python, performed data cleaning, exploratory analysis, statistical testing, and business-oriented reporting.\n",
    "\n",
    "This project demonstrates strong SQL querying, Python data handling, critical thinking, and data storytelling — all essential skills for a Data Analyst in the healthcare industry.\n",
    "\n",
    "---\n",
    "\n",
    "### Project Details\n",
    "\n",
    "**Project Theme:** Hospital Performance & Patient Analytics  \n",
    "**Focus Areas:** SQL queries, data exploration, billing, test results, medications\n",
    "\n",
    "_This notebook walks through realistic healthcare data using SQL inside Python. Designed for data analyst portfolio use._\n"
   ]
  },
  {
   "cell_type": "markdown",
   "id": "2f1d0c4b",
   "metadata": {},
   "source": [
    "### 🔒 Environment Setup\n",
    "If you're using a virtual environment (recommended):\n",
    "```bash\n",
    "python3 -m venv venv\n",
    "source venv/bin/activate  # deactivate when done\n",
    "pip3 install pandas matplotlib seaborn jupyter notebook ipython-sql\n",
    "```\n",
    "_Remember to **deactivate** with `deactivate` when you're done._"
   ]
  },
  {
   "cell_type": "markdown",
   "metadata": {},
   "source": [
    "### 🛠 Environment Setup Details\n",
    "This project was completed using:\n",
    "\n",
    "Python 3\n",
    "\n",
    "SQLite (SQL inside Python)\n",
    "\n",
    "Pandas (for data handling)\n",
    "\n",
    "Matplotlib (for data visualization)\n",
    "\n",
    "Scipy (for statistical testing)\n",
    "\n",
    "ipython-sql (for SQL querying inside Jupyter)\n"
   ]
  },
  {
   "cell_type": "code",
   "execution_count": null,
   "id": "ae7b1275",
   "metadata": {},
   "outputs": [
    {
     "ename": "",
     "evalue": "",
     "output_type": "error",
     "traceback": [
      "\u001b[1;31mRunning cells with 'venv (Python 3.13.2)' requires the ipykernel package.\n",
      "\u001b[1;31mInstall 'ipykernel' into the Python environment. \n",
      "\u001b[1;31mCommand: '\"/Users/babak/Desktop/PROJECT for my portfolio/Python-SQL_jupiter_portfolio_project/venv/bin/python3.13\" -m pip install ipykernel -U --force-reinstall'"
     ]
    }
   ],
   "source": [
    "import sqlite3\n",
    "import pandas as pd\n",
    "\n",
    "# Connect to your database file\n",
    "conn = sqlite3.connect('healthcare_portfolio_project.db')\n",
    "\n"
   ]
  },
  {
   "cell_type": "markdown",
   "metadata": {},
   "source": [
    "All work was conducted within a virtual environment (recommended practice) and executed in a Jupyter Notebook using VS Code.\n",
    "\n",
    "Packages installed included: pandas, matplotlib, seaborn, scipy, jupyter notebook, ipython-sql."
   ]
  },
  {
   "cell_type": "markdown",
   "metadata": {},
   "source": []
  },
  {
   "cell_type": "markdown",
   "metadata": {},
   "source": []
  },
  {
   "cell_type": "code",
   "execution_count": null,
   "id": "8cdddad0",
   "metadata": {},
   "outputs": [],
   "source": [
    "query = \"\"\"\n",
    "SELECT name FROM sqlite_master WHERE type='table';\n",
    "\"\"\"\n",
    "tables = pd.read_sql_query(query, conn)\n",
    "print (tables)"
   ]
  },
  {
   "cell_type": "markdown",
   "metadata": {},
   "source": [
    "# 🧹 Data Cleaning\n",
    "\n",
    "Before starting the analysis, I checked and cleaned the healthcare dataset to ensure quality results.\n",
    "\n",
    "The cleaning steps included:\n",
    "\n",
    "- Checking for missing values\n",
    "- Checking for duplicate rows\n",
    "- Reviewing column formats\n",
    "- Handling any inconsistent data\n",
    "\n",
    "Maintaining clean data is essential for reliable analysis and trustworthy business insights.\n",
    "\n"
   ]
  },
  {
   "cell_type": "code",
   "execution_count": null,
   "metadata": {},
   "outputs": [],
   "source": [
    "# Check for missing values in the patients table\n",
    "pd.read_sql_query(\"\"\"\n",
    "SELECT \n",
    "    SUM(CASE WHEN name IS NULL THEN 1 ELSE 0 END) AS missing_names,\n",
    "    SUM(CASE WHEN gender IS NULL THEN 1 ELSE 0 END) AS missing_genders,\n",
    "    SUM(CASE WHEN birth_date IS NULL THEN 1 ELSE 0 END) AS missing_birth_dates,\n",
    "    SUM(CASE WHEN blood_type IS NULL THEN 1 ELSE 0 END) AS missing_blood_types\n",
    "FROM patients\n",
    "\"\"\", conn)\n"
   ]
  },
  {
   "cell_type": "markdown",
   "metadata": {},
   "source": [
    "### 🧹 Cleaning Check: Patients Table\n",
    "\n",
    "I checked the `patients` table for missing values. \n",
    "The table was clean, with no missing names, genders, birth dates, or blood types detected.\n"
   ]
  },
  {
   "cell_type": "code",
   "execution_count": null,
   "metadata": {},
   "outputs": [],
   "source": [
    "# Check unique gender values in patients\n",
    "pd.read_sql_query(\"\"\"\n",
    "SELECT DISTINCT gender\n",
    "FROM patients\n",
    "\"\"\", conn)\n"
   ]
  },
  {
   "cell_type": "markdown",
   "metadata": {},
   "source": [
    "### 🧹 Cleaning Check: Gender Values in Patients Table\n",
    "\n",
    "I checked the unique gender values in the `patients` table. \n",
    "The values were consistent (Male, Female, Other) and no unusual or invalid entries were found.\n"
   ]
  },
  {
   "cell_type": "code",
   "execution_count": null,
   "metadata": {},
   "outputs": [],
   "source": [
    "# Check unique blood types\n",
    "pd.read_sql_query(\"\"\"\n",
    "SELECT DISTINCT blood_type\n",
    "FROM patients\n",
    "\"\"\", conn)\n"
   ]
  },
  {
   "cell_type": "markdown",
   "metadata": {},
   "source": [
    "### 🧹 Cleaning Check: Blood Types in Patients Table\n",
    "\n",
    "I checked the unique blood type values in the `patients` table. \n",
    "All blood types matched expected medical standards (A+, A-, B+, B-, AB+, AB-, O+, O-), with no anomalies detected.\n"
   ]
  },
  {
   "cell_type": "code",
   "execution_count": null,
   "metadata": {},
   "outputs": [],
   "source": [
    "# Check for missing dates in admissions\n",
    "pd.read_sql_query(\"\"\"\n",
    "SELECT \n",
    "    SUM(CASE WHEN admission_date IS NULL THEN 1 ELSE 0 END) AS missing_admission_dates,\n",
    "    SUM(CASE WHEN discharge_date IS NULL THEN 1 ELSE 0 END) AS missing_discharge_dates\n",
    "FROM admissions\n",
    "\"\"\", conn)\n"
   ]
  },
  {
   "cell_type": "markdown",
   "metadata": {},
   "source": [
    "### 🧹 Cleaning Check: Missing Dates in Admissions Table\n",
    "\n",
    "I checked the `admissions` table for missing admission and discharge dates.\n",
    "No missing values were found, ensuring completeness of hospital stay records.\n"
   ]
  },
  {
   "cell_type": "code",
   "execution_count": null,
   "metadata": {},
   "outputs": [],
   "source": [
    "# Check for invalid date logic: discharge before admission\n",
    "pd.read_sql_query(\"\"\"\n",
    "SELECT COUNT(*) AS invalid_date_records\n",
    "FROM admissions\n",
    "WHERE discharge_date < admission_date\n",
    "\"\"\", conn)\n"
   ]
  },
  {
   "cell_type": "markdown",
   "metadata": {},
   "source": [
    "### 🧹 Cleaning Check: Date Logic in Admissions Table\n",
    "\n",
    "I verified that all `discharge_date` values occur after their corresponding `admission_date`.\n",
    "No invalid date relationships were found, confirming chronological consistency in patient records.\n"
   ]
  },
  {
   "cell_type": "code",
   "execution_count": null,
   "metadata": {},
   "outputs": [],
   "source": [
    "# Check for missing values in billing\n",
    "pd.read_sql_query(\"\"\"\n",
    "SELECT \n",
    "    SUM(CASE WHEN total_amount IS NULL THEN 1 ELSE 0 END) AS missing_total_amounts,\n",
    "    SUM(CASE WHEN paid_amount IS NULL THEN 1 ELSE 0 END) AS missing_paid_amounts\n",
    "FROM billing\n",
    "\"\"\", conn)\n"
   ]
  },
  {
   "cell_type": "markdown",
   "metadata": {},
   "source": [
    "### 🧹 Cleaning Check: Missing Billing Amounts\n",
    "\n",
    "I checked the `billing` table for missing `total_amount` and `paid_amount` values.\n",
    "No missing billing records were found, ensuring financial completeness.\n"
   ]
  },
  {
   "cell_type": "code",
   "execution_count": null,
   "metadata": {},
   "outputs": [],
   "source": [
    "# Check for negative billing values\n",
    "pd.read_sql_query(\"\"\"\n",
    "SELECT COUNT(*) AS negative_total_amounts\n",
    "FROM billing\n",
    "WHERE total_amount < 0 OR paid_amount < 0\n",
    "\"\"\", conn)\n"
   ]
  },
  {
   "cell_type": "markdown",
   "metadata": {},
   "source": [
    "### 🧹 Cleaning Check: Negative Billing Amounts\n",
    "\n",
    "I checked for any negative billing amounts.\n",
    "No negative values were found, confirming data accuracy in financial records.\n"
   ]
  },
  {
   "cell_type": "code",
   "execution_count": null,
   "metadata": {},
   "outputs": [],
   "source": [
    "# Check for missing values in medications\n",
    "pd.read_sql_query(\"\"\"\n",
    "SELECT \n",
    "    SUM(CASE WHEN medication_name IS NULL THEN 1 ELSE 0 END) AS missing_medication_names,\n",
    "    SUM(CASE WHEN dosage IS NULL THEN 1 ELSE 0 END) AS missing_dosages,\n",
    "    SUM(CASE WHEN administration_route IS NULL THEN 1 ELSE 0 END) AS missing_routes\n",
    "FROM medications\n",
    "\"\"\", conn)\n"
   ]
  },
  {
   "cell_type": "markdown",
   "metadata": {},
   "source": [
    "### 🧹 Cleaning Check: Medications Table\n",
    "\n",
    "I checked the `medications` table for missing medication names, dosages, and administration routes.\n",
    "No missing values were found, confirming complete medication data records.\n"
   ]
  },
  {
   "cell_type": "code",
   "execution_count": null,
   "metadata": {},
   "outputs": [],
   "source": [
    "pd.read_sql_query(\"\"\"\n",
    "SELECT DISTINCT administration_route\n",
    "FROM medications\n",
    "\"\"\", conn)\n"
   ]
  },
  {
   "cell_type": "markdown",
   "metadata": {},
   "source": [
    "This shows if weird routes were entered (like \"Flying Saucer\" 😂 instead of \"Oral\", \"IV\", \"Injection\").\n",
    "\n"
   ]
  },
  {
   "cell_type": "code",
   "execution_count": null,
   "metadata": {},
   "outputs": [],
   "source": [
    "# Check for missing values in test_results\n",
    "pd.read_sql_query(\"\"\"\n",
    "SELECT \n",
    "    SUM(CASE WHEN test_type IS NULL THEN 1 ELSE 0 END) AS missing_test_types,\n",
    "    SUM(CASE WHEN test_result IS NULL THEN 1 ELSE 0 END) AS missing_test_results,\n",
    "    SUM(CASE WHEN result_date IS NULL THEN 1 ELSE 0 END) AS missing_result_dates\n",
    "FROM test_results\n",
    "\"\"\", conn)\n"
   ]
  },
  {
   "cell_type": "markdown",
   "metadata": {},
   "source": [
    "### 🧹 Cleaning Check: Test Results Table\n",
    "\n",
    "I checked the `test_results` table for missing `test_type`, `test_result`, and `result_date` values.\n",
    "No missing values were detected, confirming the completeness of the medical testing records.\n"
   ]
  },
  {
   "cell_type": "code",
   "execution_count": null,
   "metadata": {},
   "outputs": [],
   "source": [
    "# Check for unusual test_result values\n",
    "pd.read_sql_query(\"\"\"\n",
    "SELECT \n",
    "    MIN(test_result) AS min_test_result,\n",
    "    MAX(test_result) AS max_test_result\n",
    "FROM test_results\n",
    "\"\"\", conn)\n"
   ]
  },
  {
   "cell_type": "markdown",
   "metadata": {},
   "source": [
    "### 🧹 Cleaning Check: Test Result Value Ranges\n",
    "\n",
    "I checked the minimum and maximum values for `test_result` in the `test_results` table.\n",
    "All values were within an expected medical range, with no extreme outliers detected.\n"
   ]
  },
  {
   "cell_type": "markdown",
   "metadata": {},
   "source": [
    "# 🔎 Exploratory Data Analysis (EDA)\n",
    "\n",
    "After cleaning the data, I conducted an initial exploration to understand the structure and contents of each table.\n",
    "\n",
    "This included:\n",
    "\n",
    "- Previewing key tables (`patients`, `admissions`, `billing`, `medications`, `test_results`) using SQL queries (`SELECT * FROM table LIMIT X`)\n",
    "- Counting rows and identifying key columns\n",
    "- Understanding which tables are important for deeper analysis\n",
    "\n"
   ]
  },
  {
   "cell_type": "markdown",
   "id": "358d2d84",
   "metadata": {},
   "source": [
    "### 🧪 First Look: Patients Table"
   ]
  },
  {
   "cell_type": "markdown",
   "id": "60ed35ce",
   "metadata": {},
   "source": [
    "### 🧾 Admissions Overview"
   ]
  },
  {
   "cell_type": "code",
   "execution_count": null,
   "metadata": {},
   "outputs": [],
   "source": [
    "pd.read_sql_query(\"SELECT * FROM admissions LIMIT 5\", conn)"
   ]
  },
  {
   "cell_type": "code",
   "execution_count": null,
   "id": "dee0698e",
   "metadata": {},
   "outputs": [],
   "source": [
    "pd.read_sql_query(\"\"\"\n",
    "SELECT admission_type, COUNT(*) as count\n",
    "FROM admissions\n",
    "GROUP BY admission_type\n",
    "ORDER BY count DESC\n",
    "\"\"\", conn)"
   ]
  },
  {
   "cell_type": "code",
   "execution_count": null,
   "metadata": {},
   "outputs": [],
   "source": [
    "pd.read_sql_query(\"SELECT * FROM patients LIMIT 5\", conn)\n"
   ]
  },
  {
   "cell_type": "code",
   "execution_count": null,
   "metadata": {},
   "outputs": [],
   "source": [
    "pd.read_sql_query(\"\"\"\n",
    "SELECT gender, COUNT(*) AS count\n",
    "FROM patients\n",
    "GROUP BY gender\n",
    "ORDER BY count DESC\n",
    "\"\"\", conn)\n"
   ]
  },
  {
   "cell_type": "markdown",
   "metadata": {},
   "source": [
    "### 📊 Analysis: Patient Gender Distribution\n",
    "\n",
    "We analyzed the `patients` table to find the distribution of genders among all patients.\n",
    "The results show how many patients are Male, Female, or Other.\n",
    "\n",
    "This will help later if we want to analyze admission patterns, medical conditions, or billing differences by gender.\n"
   ]
  },
  {
   "cell_type": "code",
   "execution_count": null,
   "metadata": {},
   "outputs": [],
   "source": [
    "pd.read_sql_query(\"SELECT * FROM patients LIMIT 5\", conn)\n"
   ]
  },
  {
   "cell_type": "markdown",
   "metadata": {},
   "source": [
    "We previewed the patients table to check available columns and understand the structure."
   ]
  },
  {
   "cell_type": "code",
   "execution_count": null,
   "metadata": {},
   "outputs": [],
   "source": [
    "pd.read_sql_query(\"\"\"\n",
    "SELECT blood_type, COUNT(*) AS count\n",
    "FROM patients\n",
    "GROUP BY blood_type\n",
    "ORDER By count DESC\n",
    "\"\"\",conn)"
   ]
  },
  {
   "cell_type": "markdown",
   "metadata": {},
   "source": [
    "### 🩸 Analysis: Patient Blood Type Distribution\n",
    "\n",
    "This analysis shows the distribution of blood types among all patients.\n",
    "It helps later if we want to study disease trends, blood transfusion planning, or emergency resource management.\n"
   ]
  },
  {
   "cell_type": "code",
   "execution_count": null,
   "metadata": {},
   "outputs": [],
   "source": [
    "pd.read_sql_query(\"SELECT * FROM admissions LIMIT 5\", conn)"
   ]
  },
  {
   "cell_type": "markdown",
   "metadata": {},
   "source": [
    "We previewed the admissions table to check available columns and understand the structure."
   ]
  },
  {
   "cell_type": "code",
   "execution_count": null,
   "metadata": {},
   "outputs": [],
   "source": [
    "pd.read_sql_query(\"\"\"\n",
    "SELECT admission_type, COUNT(*) AS count\n",
    "FROM admissions\n",
    "GROUP BY admission_type\n",
    "ORDER BY count DESC\n",
    "\"\"\",conn)"
   ]
  },
  {
   "cell_type": "markdown",
   "metadata": {},
   "source": [
    "# 🏥 Admissions Analysis\n",
    "\n",
    "In this section, I analyzed hospital admissions to uncover patterns in patient volume, types of admissions, and hospital workloads.\n",
    "\n",
    "The analysis included:\n",
    "\n",
    "- Admission type distribution\n",
    "- Top hospitals by number of admissions\n",
    "- Monthly admission trends\n",
    "- Average length of stay by admission type\n"
   ]
  },
  {
   "cell_type": "markdown",
   "metadata": {},
   "source": [
    "### 🏥 Analysis: Admission Type Distribution\n",
    "\n",
    "We analyzed the `admissions` table to find the distribution of hospital admission types.\n",
    "This information helps hospitals allocate resources based on common types of admissions (e.g., emergency services, scheduled surgeries).\n"
   ]
  },
  {
   "cell_type": "code",
   "execution_count": null,
   "metadata": {},
   "outputs": [],
   "source": [
    "pd.read_sql_query(\"\"\"\n",
    "SELECT hospitals.name AS hospital_name, COUNT(*) AS total_admissions\n",
    "FROM admissions\n",
    "JOIN hospitals ON admissions.hospital_id = hospitals.hospital_id\n",
    "GROUP BY hospitals.name\n",
    "ORDER BY total_admissions DESC\n",
    "LIMIT 10\n",
    "\"\"\", conn)\n"
   ]
  },
  {
   "cell_type": "markdown",
   "metadata": {},
   "source": [
    "### 🏥 Analysis: Top 10 Hospitals by Number of Admissions\n",
    "\n",
    "I identified the 10 hospitals with the highest number of admissions by performing a SQL JOIN between the `admissions` table and the `hospitals` table.\n",
    "\n",
    "Using a JOIN allowed me to combine hospital names (from `hospitals`) with admission records (from `admissions`) based on the `hospital_id` key.\n",
    "\n",
    "This insight helps prioritize hospital resource allocation and staffing plans.\n",
    "\n"
   ]
  },
  {
   "cell_type": "code",
   "execution_count": null,
   "metadata": {},
   "outputs": [],
   "source": [
    "pd.read_sql_query(\"\"\"\n",
    "SELECT strftime('%Y-%m', admission_date) AS month, COUNT(*) AS admissions\n",
    "FROM admissions\n",
    "GROUP BY month\n",
    "ORDER BY month\n",
    "\"\"\", conn)\n"
   ]
  },
  {
   "cell_type": "markdown",
   "metadata": {},
   "source": [
    "### 📅 Analysis: Admissions by Month\n",
    "\n",
    "I analyzed the number of hospital admissions grouped by month to discover seasonal patterns.\n",
    "\n",
    "Understanding when admissions peak can help hospitals optimize staffing, prepare for flu seasons, and plan emergency resources.\n"
   ]
  },
  {
   "cell_type": "code",
   "execution_count": null,
   "metadata": {},
   "outputs": [],
   "source": [
    "import matplotlib.pyplot as plt\n",
    "\n",
    "# Store the query results into a variable\n",
    "admissions_by_month = pd.read_sql_query(\"\"\"\n",
    "SELECT strftime('%Y-%m', admission_date) AS month, COUNT(*) AS admissions\n",
    "FROM admissions\n",
    "GROUP BY month\n",
    "ORDER BY month\n",
    "\"\"\", conn)\n",
    "\n",
    "# Plotting\n",
    "plt.figure(figsize=(12,6))\n",
    "plt.plot(admissions_by_month['month'], admissions_by_month['admissions'], marker='o')\n",
    "plt.xticks(rotation=90)\n",
    "plt.title('Monthly Admissions Trend')\n",
    "plt.xlabel('Month')\n",
    "plt.ylabel('Number of Admissions')\n",
    "plt.grid(True)\n",
    "plt.show()\n"
   ]
  },
  {
   "cell_type": "code",
   "execution_count": null,
   "metadata": {},
   "outputs": [],
   "source": [
    "pd.read_sql_query(\"\"\"\n",
    "SELECT \n",
    "    admission_id,\n",
    "    admission_date,\n",
    "    discharge_date,\n",
    "    julianday(discharge_date) - julianday(admission_date) AS length_of_stay\n",
    "FROM admissions\n",
    "LIMIT 10\n",
    "\"\"\", conn)\n"
   ]
  },
  {
   "cell_type": "markdown",
   "metadata": {},
   "source": [
    "### 🛌 Preview: Patient Length of Stay Calculation\n",
    "\n",
    "I calculated the length of stay for patients by subtracting the admission date from the discharge date using SQL `julianday()` function.\n",
    "\n",
    "Previewed the first 10 patient stays to verify the calculation logic, which was correct.\n"
   ]
  },
  {
   "cell_type": "code",
   "execution_count": null,
   "metadata": {},
   "outputs": [],
   "source": [
    "pd.read_sql_query(\"\"\"\n",
    "SELECT\n",
    "    ROUND(AVG(julianday(discharge_date) - julianday(admission_date)), 2) AS average_length\n",
    "FROM admissions\n",
    "\"\"\", conn)"
   ]
  },
  {
   "cell_type": "markdown",
   "metadata": {},
   "source": [
    "### 🛌 Analysis: Average Length of Hospital Stay\n",
    "\n",
    "I calculated the average length of stay across all patient admissions.\n",
    "\n",
    "Using the SQL `AVG()` function on the difference between discharge and admission dates, I found that patients stay an average of approximately 7,5 days in the hospital.\n",
    "\n",
    "This information is valuable for hospital bed management and planning patient flow.\n"
   ]
  },
  {
   "cell_type": "markdown",
   "metadata": {},
   "source": [
    " Now we calculate separate averages for:\n",
    "\n",
    "Emergency admissions\n",
    "\n",
    "Elective admissions\n",
    "\n",
    "Urgent admissions\n",
    "\n",
    "Newborn admissions\n",
    "\n",
    "This gives way more insight:\n",
    "\n",
    "\"Do Emergency patients stay longer than Elective ones?\""
   ]
  },
  {
   "cell_type": "code",
   "execution_count": null,
   "metadata": {},
   "outputs": [],
   "source": [
    "pd.read_sql_query(\"\"\"\n",
    "SELECT \n",
    "    admission_type,\n",
    "    ROUND(AVG(julianday(discharge_date) - julianday(admission_date)), 2) AS average_length_of_stay\n",
    "FROM admissions\n",
    "GROUP BY admission_type\n",
    "ORDER BY average_length_of_stay DESC\n",
    "\"\"\", conn)\n"
   ]
  },
  {
   "cell_type": "markdown",
   "metadata": {},
   "source": [
    "### 🛌 Analysis: Average Length of Stay by Admission Type\n",
    "\n",
    "I calculated the average length of hospital stay separately for each `admission_type` (Emergency, Elective, Urgent, Newborn).\n",
    "\n",
    "This analysis highlights which types of admissions typically require longer hospitalization periods.\n",
    "\n",
    "For example, \"Do Emergency admissions have longer stays compared to Elective surgeries.\" the answer is no, as we see there is nosignificant difference.\n"
   ]
  },
  {
   "cell_type": "code",
   "execution_count": null,
   "metadata": {},
   "outputs": [],
   "source": [
    "import matplotlib.pyplot as plt\n",
    "\n",
    "# Make sure we have the data ready (if you restarted)\n",
    "avg_stay_by_type = pd.read_sql_query(\"\"\"\n",
    "SELECT \n",
    "    admission_type,\n",
    "    ROUND(AVG(julianday(discharge_date) - julianday(admission_date)), 2) AS average_length_of_stay\n",
    "FROM admissions\n",
    "GROUP BY admission_type\n",
    "ORDER BY average_length_of_stay DESC\n",
    "\"\"\", conn)\n",
    "\n",
    "# Plot horizontal bar chart\n",
    "plt.figure(figsize=(10,6))\n",
    "bars = plt.barh(avg_stay_by_type['admission_type'], avg_stay_by_type['average_length_of_stay'], color='skyblue')\n",
    "plt.title('Average Length of Stay by Admission Type')\n",
    "plt.xlabel('Average Length of Stay (days)')\n",
    "plt.ylabel('Admission Type')\n",
    "plt.grid(axis='x')\n",
    "\n",
    "# Add value labels next to bars\n",
    "for bar in bars:\n",
    "    xval = bar.get_width()\n",
    "    plt.text(xval + 0.05, bar.get_y() + bar.get_height()/2.0, round(xval, 2), va='center')\n",
    "\n",
    "plt.tight_layout()\n",
    "plt.show()\n",
    "\n"
   ]
  },
  {
   "cell_type": "markdown",
   "metadata": {},
   "source": [
    "### 📊 Visualization: Average Stay by Admission Type (Horizontal Bar Chart)\n",
    "\n",
    "I created a horizontal bar chart to visualize the average hospital stay length for each `admission_type`.\n",
    "\n",
    "Adding exact value labels improves clarity, especially when the differences between categories are small.\n",
    "\n",
    "Horizontal layout also makes it easier to read admission types compared to a vertical plot.\n",
    "\n"
   ]
  },
  {
   "cell_type": "code",
   "execution_count": null,
   "metadata": {},
   "outputs": [],
   "source": [
    "pd.read_sql_query(\"\"\"\n",
    "SELECT \n",
    "    CASE \n",
    "        WHEN paid_amount >= total_amount THEN 'Paid in Full'\n",
    "        WHEN paid_amount = 0 THEN 'Unpaid'\n",
    "        ELSE 'Partially Paid'\n",
    "    END AS payment_status,\n",
    "    COUNT(*) AS number_of_bills\n",
    "FROM billing\n",
    "GROUP BY payment_status\n",
    "\"\"\", conn)\n"
   ]
  },
  {
   "cell_type": "markdown",
   "metadata": {},
   "source": [
    "# 💸 Billing Analysis\n",
    "\n",
    "This section analyzes hospital billing data to uncover financial patterns and revenue challenges.\n",
    "\n",
    "The analysis included:\n",
    "\n",
    "- Total billed amounts vs total paid amounts\n",
    "- Revenue gap (unpaid amounts)\n",
    "- Average paid amount by admission type\n"
   ]
  },
  {
   "cell_type": "markdown",
   "metadata": {},
   "source": [
    "### 💸 Analysis: Billing Payment Status\n",
    "\n",
    "I analyzed the `billing` table to classify hospital bills as 'Paid in Full', 'Unpaid', or 'Partially Paid'.\n",
    "\n",
    "In this synthetic dataset, 100% of the billing records were classified as 'Partially Paid', with no fully paid or fully unpaid bills.\n",
    "\n",
    "This result reflects how the synthetic data was generated, and in a real-world scenario, we would expect a mix of fully paid, unpaid, and partially paid bills.\n",
    "\n",
    "Understanding payment behaviors remains critical for hospital financial risk management.\n"
   ]
  },
  {
   "cell_type": "code",
   "execution_count": null,
   "metadata": {},
   "outputs": [],
   "source": [
    "pd.read_sql_query(\"\"\"\n",
    "SELECT \n",
    "    ROUND(SUM(total_amount), 2) AS total_billed,\n",
    "    ROUND(SUM(paid_amount), 2) AS total_paid,\n",
    "    ROUND(SUM(total_amount) - SUM(paid_amount), 2) AS total_unpaid\n",
    "FROM billing\n",
    "\"\"\", conn)\n"
   ]
  },
  {
   "cell_type": "markdown",
   "metadata": {},
   "source": [
    "### 💸 Analysis: Total Revenue vs Billing Gap\n",
    "\n",
    "I calculated the total revenue collected compared to the total amount billed across all hospital billing records.\n",
    "\n",
    "This financial gap shows how much money hospitals are missing, which is critical for assessing cash flow and financial risks.\n",
    "\n",
    "In a real-world scenario, minimizing the unpaid gap is essential for hospital sustainability.\n"
   ]
  },
  {
   "cell_type": "code",
   "execution_count": null,
   "metadata": {},
   "outputs": [],
   "source": [
    "import matplotlib.pyplot as plt\n",
    "\n",
    "# Query totals into a small DataFrame\n",
    "billing_totals = pd.read_sql_query(\"\"\"\n",
    "SELECT \n",
    "    ROUND(SUM(total_amount), 2) AS total_billed,\n",
    "    ROUND(SUM(paid_amount), 2) AS total_paid,\n",
    "    ROUND(SUM(total_amount) - SUM(paid_amount), 2) AS total_unpaid\n",
    "FROM billing\n",
    "\"\"\", conn)\n",
    "\n",
    "# Prepare data for plotting\n",
    "categories = ['Total Billed', 'Total Paid', 'Total Unpaid']\n",
    "values = [billing_totals['total_billed'][0], billing_totals['total_paid'][0], billing_totals['total_unpaid'][0]]\n",
    "\n",
    "# Plot\n",
    "plt.figure(figsize=(8,6))\n",
    "bars = plt.bar(categories, values, color=['skyblue', 'lightgreen', 'salmon'])\n",
    "plt.title('Hospital Billing Overview')\n",
    "plt.ylabel('Amount (USD)')\n",
    "plt.grid(axis='y')\n",
    "\n",
    "# Add value labels on top of bars\n",
    "for bar in bars:\n",
    "    yval = bar.get_height()\n",
    "    plt.text(bar.get_x() + bar.get_width()/2.0, yval + 0.05, f\"${yval:,.2f}\", ha='center', va='bottom')\n",
    "\n",
    "plt.tight_layout()\n",
    "plt.show()\n"
   ]
  },
  {
   "cell_type": "markdown",
   "metadata": {},
   "source": [
    "### 📊 Visualization: Hospital Billing Revenue and Gaps\n",
    "\n",
    "I created a bar chart showing total billed amounts, total collected payments, and the total unpaid balance.\n",
    "\n",
    "This visualization highlights the financial gap hospitals face between expected revenue and actual collections.\n",
    "\n",
    "All values are assumed to be in US dollars (USD), for the purpose of this analysis..\n"
   ]
  },
  {
   "cell_type": "markdown",
   "metadata": {},
   "source": [
    "# 💊 Medications Analysis\n",
    "\n",
    "In this section, I analyzed medication prescription patterns across the hospital admissions.\n",
    "\n",
    "The analysis included:\n",
    "\n",
    "- Top 10 most prescribed medications\n",
    "- Administration methods (oral, intravenous, etc.)\n",
    "- Prescription patterns by admission type (Emergency vs Elective)\n"
   ]
  },
  {
   "cell_type": "code",
   "execution_count": null,
   "metadata": {},
   "outputs": [],
   "source": [
    "pd.read_sql_query(\"\"\"\n",
    "SELECT \n",
    "    medication_name,\n",
    "    COUNT(*) AS prescription_count\n",
    "FROM medications\n",
    "GROUP BY medication_name\n",
    "ORDER BY prescription_count DESC\n",
    "LIMIT 10\n",
    "\"\"\", conn)\n"
   ]
  },
  {
   "cell_type": "markdown",
   "metadata": {},
   "source": [
    "### 💊 Analysis: Top 10 Most Prescribed Medications\n",
    "\n",
    "I analyzed the `medications` table to identify the top 10 most commonly prescribed medications.\n",
    "\n",
    "Understanding common prescriptions helps hospitals manage inventory and budget effectively.\n"
   ]
  },
  {
   "cell_type": "code",
   "execution_count": null,
   "metadata": {},
   "outputs": [],
   "source": [
    "pd.read_sql_query(\"\"\"\n",
    "SELECT \n",
    "    administration_route,\n",
    "    COUNT(*) AS count\n",
    "FROM medications\n",
    "GROUP BY administration_route\n",
    "ORDER BY count DESC\n",
    "\"\"\", conn)\n"
   ]
  },
  {
   "cell_type": "markdown",
   "metadata": {},
   "source": [
    "### 💉 Analysis: Medication Administration Routes\n",
    "\n",
    "I analyzed the `medications` table to understand how medications are administered (oral, intravenous, injection, etc.).\n",
    "\n",
    "Identifying the most common administration routes helps hospitals plan for supply needs (such as syringes, IV lines, or oral medications).\n"
   ]
  },
  {
   "cell_type": "code",
   "execution_count": null,
   "metadata": {},
   "outputs": [],
   "source": [
    "pd.read_sql_query(\"\"\"\n",
    "SELECT \n",
    "    test_type,\n",
    "    COUNT(*) AS number_of_tests\n",
    "FROM test_results\n",
    "GROUP BY test_type\n",
    "ORDER BY number_of_tests DESC\n",
    "\"\"\", conn)\n"
   ]
  },
  {
   "cell_type": "markdown",
   "metadata": {},
   "source": [
    "### 🧪 Analysis: Most Common Medical Test Types\n",
    "\n",
    "I analyzed the `test_results` table to find the most frequently performed medical tests.\n",
    "\n",
    "Understanding the distribution of test types helps hospitals allocate lab resources and prioritize test equipment needs.\n"
   ]
  },
  {
   "cell_type": "code",
   "execution_count": null,
   "metadata": {},
   "outputs": [],
   "source": [
    "pd.read_sql_query(\"\"\"\n",
    "SELECT \n",
    "    test_type,\n",
    "    ROUND(AVG(test_result), 2) AS average_test_result\n",
    "FROM test_results\n",
    "GROUP BY test_type\n",
    "ORDER BY average_test_result DESC\n",
    "\"\"\", conn)\n"
   ]
  },
  {
   "cell_type": "markdown",
   "metadata": {},
   "source": [
    "### 🧪 Analysis: Average Test Result by Test Type\n",
    "\n",
    "I calculated the average `test_result` value for each medical test type.\n",
    "\n",
    "In this synthetic dataset, average test results across different test types were very similar, centered around 1.00. \n",
    "\n",
    "This reflects how the synthetic data was generated with a small randomized range. In a real-world scenario, test result ranges would vary significantly depending on the type of medical test and its clinical unit of measurement.\n"
   ]
  },
  {
   "cell_type": "code",
   "execution_count": null,
   "metadata": {},
   "outputs": [
    {
     "ename": "",
     "evalue": "",
     "output_type": "error",
     "traceback": [
      "\u001b[1;31mRunning cells with 'venv (Python 3.13.2)' requires the ipykernel package.\n",
      "\u001b[1;31mInstall 'ipykernel' into the Python environment. \n",
      "\u001b[1;31mCommand: '\"/Users/babak/Desktop/PROJECT for my portfolio/Python-SQL_jupiter_portfolio_project/venv/bin/python3.13\" -m pip install ipykernel -U --force-reinstall'"
     ]
    }
   ],
   "source": [
    "avg_test_result = pd.read_sql_query(\"\"\"\n",
    "SELECT \n",
    "    test_type,\n",
    "    ROUND(AVG(test_result), 2) AS average_test_result\n",
    "FROM test_results\n",
    "GROUP BY test_type\n",
    "ORDER BY average_test_result DESC\n",
    "\"\"\", conn)\n",
    "\n",
    "\n",
    "plt.figure(figsize=(10,6))\n",
    "bars = plt.barh(avg_test_result['test_type'], avg_test_result['average_test_result'], color='lightblue')\n",
    "plt.title('Average Test Result by Test Type')\n",
    "plt.xlabel('Average Test Result')\n",
    "plt.ylabel('Test Type')\n",
    "plt.grid(axis='x')\n",
    "\n",
    "# Add value labels next to bars\n",
    "for bar in bars:\n",
    "    xval = bar.get_width()\n",
    "    plt.text(xval + 0.01, bar.get_y() + bar.get_height()/2.0, round(xval, 2), va='center')\n",
    "\n",
    "plt.tight_layout()\n",
    "plt.show()\n"
   ]
  },
  {
   "cell_type": "code",
   "execution_count": null,
   "metadata": {},
   "outputs": [],
   "source": [
    "### 📊 Visualization: Average Test Result by Test Type\n",
    "\n",
    "I created a horizontal bar chart to visualize the average test result across different test types.\n",
    "\n",
    "Due to the synthetic nature of the dataset, all average test result values cluster very closely around 1.00, showing minimal variation between different test categories.\n",
    "\n",
    "In a real-world healthcare dataset, we would expect wider variation depending on the type of medical test and its measurement units.\n"
   ]
  },
  {
   "cell_type": "code",
   "execution_count": null,
   "metadata": {},
   "outputs": [],
   "source": [
    "# Create a dataset: Length of stay and Paid amount\n",
    "stay_vs_payment = pd.read_sql_query(\"\"\"\n",
    "SELECT \n",
    "    julianday(discharge_date) - julianday(admission_date) AS length_of_stay,\n",
    "    paid_amount\n",
    "FROM admissions\n",
    "JOIN billing ON admissions.admission_id = billing.admission_id\n",
    "WHERE discharge_date IS NOT NULL\n",
    "\"\"\", conn)\n",
    "\n",
    "# Calculate the Pearson correlation\n",
    "correlation = stay_vs_payment['length_of_stay'].corr(stay_vs_payment['paid_amount'])\n",
    "print(f\"Correlation between Length of Stay and Paid Amount: {correlation:.2f}\")\n"
   ]
  },
  {
   "cell_type": "markdown",
   "metadata": {},
   "source": [
    "### 📈 Correlation Analysis: Length of Stay vs Paid Amount\n",
    "\n",
    "I calculated the Pearson correlation coefficient between patient length of stay and the amount paid.\n",
    "\n",
    "A positive correlation would suggest that patients who stay longer tend to pay higher amounts, while a near-zero correlation would suggest no strong relationship.\n",
    "\n",
    "[Result: Correlation = 0.00]\n"
   ]
  },
  {
   "cell_type": "markdown",
   "metadata": {},
   "source": [
    "# 🧪 Test Results Analysis\n",
    "\n",
    "In this section, I explored medical test result data to understand normal result distributions and identify potential abnormalities.\n",
    "\n",
    "The analysis included:\n",
    "\n",
    "- Most common types of medical tests\n",
    "- Average test result values by test type\n",
    "- Overall distribution of test result values\n",
    "- Detection of any extreme test result outliers\n"
   ]
  },
  {
   "cell_type": "code",
   "execution_count": null,
   "metadata": {},
   "outputs": [],
   "source": [
    "# Create a dataset: length of stay and admission type\n",
    "stay_by_type = pd.read_sql_query(\"\"\"\n",
    "SELECT \n",
    "    admission_type,\n",
    "    julianday(discharge_date) - julianday(admission_date) AS length_of_stay\n",
    "FROM admissions\n",
    "WHERE discharge_date IS NOT NULL\n",
    "AND admission_type IN ('Emergency', 'Elective')\n",
    "\"\"\", conn)\n",
    "\n",
    "# Preview\n",
    "stay_by_type.head()\n"
   ]
  },
  {
   "cell_type": "code",
   "execution_count": null,
   "metadata": {},
   "outputs": [],
   "source": [
    "!pip3 install scipy"
   ]
  },
  {
   "cell_type": "code",
   "execution_count": null,
   "metadata": {},
   "outputs": [],
   "source": [
    "from scipy.stats import ttest_ind\n",
    "\n",
    "# Split into two groups\n",
    "emergency_stays = stay_by_type[stay_by_type['admission_type'] == 'Emergency']['length_of_stay']\n",
    "elective_stays = stay_by_type[stay_by_type['admission_type'] == 'Elective']['length_of_stay']\n",
    "\n",
    "# Run t-test\n",
    "t_stat, p_value = ttest_ind(emergency_stays, elective_stays, equal_var=False)\n",
    "\n",
    "print(f\"t-statistic: {t_stat:.2f}\")\n",
    "print(f\"p-value: {p_value:.4f}\")\n"
   ]
  },
  {
   "cell_type": "markdown",
   "metadata": {},
   "source": [
    "### 🧪 Hypothesis Testing: Emergency vs Elective Admissions\n",
    "\n",
    "**Null Hypothesis (H₀):**  \n",
    "There is no significant difference in average length of stay between Emergency and Elective admissions.\n",
    "\n",
    "**Alternative Hypothesis (H₁):**  \n",
    "There is a significant difference in average length of stay between Emergency and Elective admissions.\n",
    "\n",
    "I performed an independent two-sample t-test.\n",
    "\n",
    "**Results:**  \n",
    "- t-statistic = -0.72\n",
    "- p-value = 0.4741\n",
    "\n",
    "Since p > 0.05, I fail to reject the null hypothesis.\n",
    "\n",
    "This suggests that, based on the data available, there is no statistically significant difference in average hospital stay length between Emergency and Elective admissions.\n",
    "\n"
   ]
  },
  {
   "cell_type": "code",
   "execution_count": null,
   "metadata": {},
   "outputs": [
    {
     "ename": "",
     "evalue": "",
     "output_type": "error",
     "traceback": [
      "\u001b[1;31mRunning cells with 'venv (Python 3.13.2)' requires the ipykernel package.\n",
      "\u001b[1;31mInstall 'ipykernel' into the Python environment. \n",
      "\u001b[1;31mCommand: '\"/Users/babak/Desktop/PROJECT for my portfolio/Python-SQL_jupiter_portfolio_project/venv/bin/python3.13\" -m pip install ipykernel -U --force-reinstall'"
     ]
    }
   ],
   "source": [
    "import matplotlib.pyplot as plt\n",
    "\n",
    "# Prepare the data\n",
    "emergency_stays = stay_by_type[stay_by_type['admission_type'] == 'Emergency']['length_of_stay']\n",
    "elective_stays = stay_by_type[stay_by_type['admission_type'] == 'Elective']['length_of_stay']\n",
    "\n",
    "# Plot boxplots\n",
    "plt.figure(figsize=(8,6))\n",
    "plt.boxplot([emergency_stays, elective_stays], labels=['Emergency', 'Elective'])\n",
    "plt.title('Length of Stay Comparison: Emergency vs Elective Admissions')\n",
    "plt.ylabel('Length of Stay (days)')\n",
    "plt.grid(axis='y')\n",
    "plt.show()\n"
   ]
  },
  {
   "cell_type": "markdown",
   "metadata": {},
   "source": [
    "### 📊 Visualization: Length of Stay for Emergency vs Elective Admissions\n",
    "\n",
    "I created a boxplot to compare the distribution of hospital stay lengths between Emergency and Elective admissions.\n",
    "\n",
    "The visualization shows similar medians and spreads between the two groups, which is consistent with the t-test result indicating no statistically significant difference.\n"
   ]
  },
  {
   "cell_type": "code",
   "execution_count": null,
   "metadata": {},
   "outputs": [],
   "source": [
    "# Admissions by month\n",
    "admissions_by_month = pd.read_sql_query(\"\"\"\n",
    "SELECT \n",
    "    strftime('%Y-%m', admission_date) AS month,\n",
    "    COUNT(*) AS number_of_admissions\n",
    "FROM admissions\n",
    "GROUP BY month\n",
    "ORDER BY month\n",
    "\"\"\", conn)\n",
    "\n",
    "admissions_by_month.head()\n"
   ]
  },
  {
   "cell_type": "code",
   "execution_count": null,
   "metadata": {},
   "outputs": [],
   "source": [
    "import matplotlib.pyplot as plt\n",
    "\n",
    "plt.figure(figsize=(12,6))\n",
    "plt.plot(admissions_by_month['month'], admissions_by_month['number_of_admissions'], marker='o')\n",
    "plt.title('Monthly Hospital Admissions Trend')\n",
    "plt.xlabel('Month')\n",
    "plt.ylabel('Number of Admissions')\n",
    "plt.xticks(rotation=45)\n",
    "plt.grid(True)\n",
    "plt.tight_layout()\n",
    "plt.show()\n"
   ]
  },
  {
   "cell_type": "markdown",
   "metadata": {},
   "source": [
    "### 📈 Admissions Trends Over Time\n",
    "\n",
    "I analyzed the hospital admission counts by month to identify seasonal trends in patient volume.\n",
    "\n",
    "The line chart shows fluctuations in monthly admissions, which can be useful for hospital staffing and resource planning.\n"
   ]
  },
  {
   "cell_type": "code",
   "execution_count": null,
   "metadata": {},
   "outputs": [],
   "source": [
    "# Average paid amount by admission type\n",
    "billing_by_admission_type = pd.read_sql_query(\"\"\"\n",
    "SELECT \n",
    "    a.admission_type,\n",
    "    ROUND(AVG(b.paid_amount), 2) AS average_paid_amount\n",
    "FROM billing b\n",
    "JOIN admissions a ON a.admission_id = b.admission_id\n",
    "GROUP BY a.admission_type\n",
    "ORDER BY average_paid_amount DESC\n",
    "\"\"\", conn)\n",
    "\n",
    "billing_by_admission_type\n"
   ]
  },
  {
   "cell_type": "code",
   "execution_count": null,
   "metadata": {},
   "outputs": [],
   "source": [
    "plt.figure(figsize=(10,6))\n",
    "bars = plt.bar(billing_by_admission_type['admission_type'], billing_by_admission_type['average_paid_amount'], color='skyblue')\n",
    "plt.title('Average Paid Amount by Admission Type')\n",
    "plt.xlabel('Admission Type')\n",
    "plt.ylabel('Average Paid Amount (USD)')\n",
    "plt.grid(axis='y')\n",
    "\n",
    "# Add value labels\n",
    "for bar in bars:\n",
    "    yval = bar.get_height()\n",
    "    plt.text(bar.get_x() + bar.get_width()/2.0, yval + 5, f\"${yval:,.2f}\", ha='center', va='bottom')\n",
    "\n",
    "plt.tight_layout()\n",
    "plt.show()\n"
   ]
  },
  {
   "cell_type": "markdown",
   "metadata": {},
   "source": [
    "### 💸 Billing Patterns: Average Paid Amount by Admission Type\n",
    "\n",
    "I analyzed billing data to calculate the average amount paid per admission type.\n",
    "\n",
    "The bar chart shows differences in financial contributions between Emergency, Elective, Urgent, and Newborn admission types, which can help hospitals plan revenue expectations.\n"
   ]
  },
  {
   "cell_type": "code",
   "execution_count": null,
   "metadata": {},
   "outputs": [],
   "source": [
    "# Quick look at overall test result distribution\n",
    "test_result_distribution = pd.read_sql_query(\"\"\"\n",
    "SELECT \n",
    "    test_type,\n",
    "    test_result\n",
    "FROM test_results\n",
    "\"\"\", conn)\n",
    "\n",
    "test_result_distribution.head()\n"
   ]
  },
  {
   "cell_type": "code",
   "execution_count": null,
   "metadata": {},
   "outputs": [],
   "source": [
    "# Basic summary\n",
    "test_result_distribution['test_result'].describe()\n"
   ]
  },
  {
   "cell_type": "code",
   "execution_count": null,
   "metadata": {},
   "outputs": [],
   "source": [
    "plt.figure(figsize=(10,6))\n",
    "plt.hist(test_result_distribution['test_result'], bins=30, color='lightcoral', edgecolor='black')\n",
    "plt.title('Distribution of Test Results')\n",
    "plt.xlabel('Test Result Value')\n",
    "plt.ylabel('Number of Tests')\n",
    "plt.grid(axis='y')\n",
    "plt.tight_layout()\n",
    "plt.show()\n"
   ]
  },
  {
   "cell_type": "code",
   "execution_count": null,
   "metadata": {},
   "outputs": [],
   "source": [
    "# Join medications and admissions to see medication patterns\n",
    "medications_by_type = pd.read_sql_query(\"\"\"\n",
    "SELECT \n",
    "    a.admission_type,\n",
    "    m.medication_name,\n",
    "    COUNT(*) AS prescription_count\n",
    "FROM medications m\n",
    "JOIN admissions a ON m.admission_id = a.admission_id\n",
    "GROUP BY a.admission_type, m.medication_name\n",
    "ORDER BY a.admission_type, prescription_count DESC\n",
    "\"\"\", conn)\n",
    "\n",
    "medications_by_type.head()\n"
   ]
  },
  {
   "cell_type": "code",
   "execution_count": null,
   "metadata": {},
   "outputs": [],
   "source": [
    "# Filter to Emergency and Elective\n",
    "emergency_meds = medications_by_type[medications_by_type['admission_type'] == 'Emergency'].head(5)\n",
    "elective_meds = medications_by_type[medications_by_type['admission_type'] == 'Elective'].head(5)\n",
    "\n",
    "emergency_meds, elective_meds\n"
   ]
  },
  {
   "cell_type": "markdown",
   "metadata": {},
   "source": [
    "### 💊 Medication Patterns by Admission Type\n",
    "\n",
    "I analyzed medication prescription patterns for different admission types.\n",
    "\n",
    "Comparing Emergency and Elective patients helps hospitals understand differences in treatment approaches and stock management needs.\n",
    "\n",
    "The results show the top prescribed medications for Emergency and Elective admissions separately.\n"
   ]
  },
  {
   "cell_type": "code",
   "execution_count": null,
   "metadata": {},
   "outputs": [],
   "source": []
  },
  {
   "cell_type": "markdown",
   "metadata": {},
   "source": [
    "### 🧪 Test Result Abnormalities: Distribution Analysis\n",
    "\n",
    "I analyzed the distribution of all medical test results.\n",
    "\n",
    "The histogram shows whether test results are clustered around normal expected values or if there are unusual outliers that could indicate abnormal test cases.\n"
   ]
  },
  {
   "cell_type": "code",
   "execution_count": null,
   "id": "47357cf4",
   "metadata": {},
   "outputs": [],
   "source": [
    "# Close the connection when you're done\n",
    "conn.close()"
   ]
  }
 ],
 "metadata": {
  "kernelspec": {
   "display_name": "venv",
   "language": "python",
   "name": "python3"
  },
  "language_info": {
   "name": "python",
   "version": "3.13.2"
  }
 },
 "nbformat": 4,
 "nbformat_minor": 5
}
